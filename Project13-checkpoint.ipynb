{
 "cells": [
  {
   "cell_type": "code",
   "execution_count": 4,
   "id": "cf7abbf4-aa87-4e0e-aae7-af750d684aff",
   "metadata": {},
   "outputs": [],
   "source": [
    "import pandas as pd\n",
    "import seaborn as sns\n",
    "import matplotlib.pyplot as plt\n",
    "import warnings"
   ]
  },
  {
   "cell_type": "code",
   "execution_count": 5,
   "id": "d956e060-c9fc-4168-81e6-18ed663d70b1",
   "metadata": {},
   "outputs": [],
   "source": [
    "warnings.filterwarnings('ignore')"
   ]
  },
  {
   "cell_type": "code",
   "execution_count": 6,
   "id": "a7f499f3-e9ac-4eaf-bd13-e4d170769993",
   "metadata": {},
   "outputs": [],
   "source": [
    "data = pd.read_csv('athlete_events.csv')"
   ]
  },
  {
   "cell_type": "code",
   "execution_count": 7,
   "id": "bae46382-90d1-4146-aaed-14f7f1348453",
   "metadata": {},
   "outputs": [
    {
     "data": {
      "text/html": [
       "<div>\n",
       "<style scoped>\n",
       "    .dataframe tbody tr th:only-of-type {\n",
       "        vertical-align: middle;\n",
       "    }\n",
       "\n",
       "    .dataframe tbody tr th {\n",
       "        vertical-align: top;\n",
       "    }\n",
       "\n",
       "    .dataframe thead th {\n",
       "        text-align: right;\n",
       "    }\n",
       "</style>\n",
       "<table border=\"1\" class=\"dataframe\">\n",
       "  <thead>\n",
       "    <tr style=\"text-align: right;\">\n",
       "      <th></th>\n",
       "      <th>ID</th>\n",
       "      <th>Name</th>\n",
       "      <th>Sex</th>\n",
       "      <th>Age</th>\n",
       "      <th>Height</th>\n",
       "      <th>Weight</th>\n",
       "      <th>Team</th>\n",
       "      <th>NOC</th>\n",
       "      <th>Games</th>\n",
       "      <th>Year</th>\n",
       "      <th>Season</th>\n",
       "      <th>City</th>\n",
       "      <th>Sport</th>\n",
       "      <th>Event</th>\n",
       "      <th>Medal</th>\n",
       "    </tr>\n",
       "  </thead>\n",
       "  <tbody>\n",
       "    <tr>\n",
       "      <th>0</th>\n",
       "      <td>1</td>\n",
       "      <td>A Dijiang</td>\n",
       "      <td>M</td>\n",
       "      <td>24.0</td>\n",
       "      <td>180.0</td>\n",
       "      <td>80.0</td>\n",
       "      <td>China</td>\n",
       "      <td>CHN</td>\n",
       "      <td>1992 Summer</td>\n",
       "      <td>1992</td>\n",
       "      <td>Summer</td>\n",
       "      <td>Barcelona</td>\n",
       "      <td>Basketball</td>\n",
       "      <td>Basketball Men's Basketball</td>\n",
       "      <td>NaN</td>\n",
       "    </tr>\n",
       "    <tr>\n",
       "      <th>1</th>\n",
       "      <td>2</td>\n",
       "      <td>A Lamusi</td>\n",
       "      <td>M</td>\n",
       "      <td>23.0</td>\n",
       "      <td>170.0</td>\n",
       "      <td>60.0</td>\n",
       "      <td>China</td>\n",
       "      <td>CHN</td>\n",
       "      <td>2012 Summer</td>\n",
       "      <td>2012</td>\n",
       "      <td>Summer</td>\n",
       "      <td>London</td>\n",
       "      <td>Judo</td>\n",
       "      <td>Judo Men's Extra-Lightweight</td>\n",
       "      <td>NaN</td>\n",
       "    </tr>\n",
       "    <tr>\n",
       "      <th>2</th>\n",
       "      <td>3</td>\n",
       "      <td>Gunnar Nielsen Aaby</td>\n",
       "      <td>M</td>\n",
       "      <td>24.0</td>\n",
       "      <td>NaN</td>\n",
       "      <td>NaN</td>\n",
       "      <td>Denmark</td>\n",
       "      <td>DEN</td>\n",
       "      <td>1920 Summer</td>\n",
       "      <td>1920</td>\n",
       "      <td>Summer</td>\n",
       "      <td>Antwerpen</td>\n",
       "      <td>Football</td>\n",
       "      <td>Football Men's Football</td>\n",
       "      <td>NaN</td>\n",
       "    </tr>\n",
       "    <tr>\n",
       "      <th>3</th>\n",
       "      <td>4</td>\n",
       "      <td>Edgar Lindenau Aabye</td>\n",
       "      <td>M</td>\n",
       "      <td>34.0</td>\n",
       "      <td>NaN</td>\n",
       "      <td>NaN</td>\n",
       "      <td>Denmark/Sweden</td>\n",
       "      <td>DEN</td>\n",
       "      <td>1900 Summer</td>\n",
       "      <td>1900</td>\n",
       "      <td>Summer</td>\n",
       "      <td>Paris</td>\n",
       "      <td>Tug-Of-War</td>\n",
       "      <td>Tug-Of-War Men's Tug-Of-War</td>\n",
       "      <td>Gold</td>\n",
       "    </tr>\n",
       "    <tr>\n",
       "      <th>4</th>\n",
       "      <td>5</td>\n",
       "      <td>Christine Jacoba Aaftink</td>\n",
       "      <td>F</td>\n",
       "      <td>21.0</td>\n",
       "      <td>185.0</td>\n",
       "      <td>82.0</td>\n",
       "      <td>Netherlands</td>\n",
       "      <td>NED</td>\n",
       "      <td>1988 Winter</td>\n",
       "      <td>1988</td>\n",
       "      <td>Winter</td>\n",
       "      <td>Calgary</td>\n",
       "      <td>Speed Skating</td>\n",
       "      <td>Speed Skating Women's 500 metres</td>\n",
       "      <td>NaN</td>\n",
       "    </tr>\n",
       "  </tbody>\n",
       "</table>\n",
       "</div>"
      ],
      "text/plain": [
       "   ID                      Name Sex   Age  Height  Weight            Team  \\\n",
       "0   1                 A Dijiang   M  24.0   180.0    80.0           China   \n",
       "1   2                  A Lamusi   M  23.0   170.0    60.0           China   \n",
       "2   3       Gunnar Nielsen Aaby   M  24.0     NaN     NaN         Denmark   \n",
       "3   4      Edgar Lindenau Aabye   M  34.0     NaN     NaN  Denmark/Sweden   \n",
       "4   5  Christine Jacoba Aaftink   F  21.0   185.0    82.0     Netherlands   \n",
       "\n",
       "   NOC        Games  Year  Season       City          Sport  \\\n",
       "0  CHN  1992 Summer  1992  Summer  Barcelona     Basketball   \n",
       "1  CHN  2012 Summer  2012  Summer     London           Judo   \n",
       "2  DEN  1920 Summer  1920  Summer  Antwerpen       Football   \n",
       "3  DEN  1900 Summer  1900  Summer      Paris     Tug-Of-War   \n",
       "4  NED  1988 Winter  1988  Winter    Calgary  Speed Skating   \n",
       "\n",
       "                              Event Medal  \n",
       "0       Basketball Men's Basketball   NaN  \n",
       "1      Judo Men's Extra-Lightweight   NaN  \n",
       "2           Football Men's Football   NaN  \n",
       "3       Tug-Of-War Men's Tug-Of-War  Gold  \n",
       "4  Speed Skating Women's 500 metres   NaN  "
      ]
     },
     "execution_count": 7,
     "metadata": {},
     "output_type": "execute_result"
    }
   ],
   "source": [
    "data.head()"
   ]
  },
  {
   "cell_type": "code",
   "execution_count": 8,
   "id": "2e0e0e8e-3890-48e3-bc79-1676100d1e4e",
   "metadata": {},
   "outputs": [
    {
     "data": {
      "text/html": [
       "<div>\n",
       "<style scoped>\n",
       "    .dataframe tbody tr th:only-of-type {\n",
       "        vertical-align: middle;\n",
       "    }\n",
       "\n",
       "    .dataframe tbody tr th {\n",
       "        vertical-align: top;\n",
       "    }\n",
       "\n",
       "    .dataframe thead th {\n",
       "        text-align: right;\n",
       "    }\n",
       "</style>\n",
       "<table border=\"1\" class=\"dataframe\">\n",
       "  <thead>\n",
       "    <tr style=\"text-align: right;\">\n",
       "      <th></th>\n",
       "      <th>ID</th>\n",
       "      <th>Name</th>\n",
       "      <th>Sex</th>\n",
       "      <th>Age</th>\n",
       "      <th>Height</th>\n",
       "      <th>Weight</th>\n",
       "      <th>Team</th>\n",
       "      <th>NOC</th>\n",
       "      <th>Games</th>\n",
       "      <th>Year</th>\n",
       "      <th>Season</th>\n",
       "      <th>City</th>\n",
       "      <th>Sport</th>\n",
       "      <th>Event</th>\n",
       "      <th>Medal</th>\n",
       "    </tr>\n",
       "  </thead>\n",
       "  <tbody>\n",
       "    <tr>\n",
       "      <th>271111</th>\n",
       "      <td>135569</td>\n",
       "      <td>Andrzej ya</td>\n",
       "      <td>M</td>\n",
       "      <td>29.0</td>\n",
       "      <td>179.0</td>\n",
       "      <td>89.0</td>\n",
       "      <td>Poland-1</td>\n",
       "      <td>POL</td>\n",
       "      <td>1976 Winter</td>\n",
       "      <td>1976</td>\n",
       "      <td>Winter</td>\n",
       "      <td>Innsbruck</td>\n",
       "      <td>Luge</td>\n",
       "      <td>Luge Mixed (Men)'s Doubles</td>\n",
       "      <td>NaN</td>\n",
       "    </tr>\n",
       "    <tr>\n",
       "      <th>271112</th>\n",
       "      <td>135570</td>\n",
       "      <td>Piotr ya</td>\n",
       "      <td>M</td>\n",
       "      <td>27.0</td>\n",
       "      <td>176.0</td>\n",
       "      <td>59.0</td>\n",
       "      <td>Poland</td>\n",
       "      <td>POL</td>\n",
       "      <td>2014 Winter</td>\n",
       "      <td>2014</td>\n",
       "      <td>Winter</td>\n",
       "      <td>Sochi</td>\n",
       "      <td>Ski Jumping</td>\n",
       "      <td>Ski Jumping Men's Large Hill, Individual</td>\n",
       "      <td>NaN</td>\n",
       "    </tr>\n",
       "    <tr>\n",
       "      <th>271113</th>\n",
       "      <td>135570</td>\n",
       "      <td>Piotr ya</td>\n",
       "      <td>M</td>\n",
       "      <td>27.0</td>\n",
       "      <td>176.0</td>\n",
       "      <td>59.0</td>\n",
       "      <td>Poland</td>\n",
       "      <td>POL</td>\n",
       "      <td>2014 Winter</td>\n",
       "      <td>2014</td>\n",
       "      <td>Winter</td>\n",
       "      <td>Sochi</td>\n",
       "      <td>Ski Jumping</td>\n",
       "      <td>Ski Jumping Men's Large Hill, Team</td>\n",
       "      <td>NaN</td>\n",
       "    </tr>\n",
       "    <tr>\n",
       "      <th>271114</th>\n",
       "      <td>135571</td>\n",
       "      <td>Tomasz Ireneusz ya</td>\n",
       "      <td>M</td>\n",
       "      <td>30.0</td>\n",
       "      <td>185.0</td>\n",
       "      <td>96.0</td>\n",
       "      <td>Poland</td>\n",
       "      <td>POL</td>\n",
       "      <td>1998 Winter</td>\n",
       "      <td>1998</td>\n",
       "      <td>Winter</td>\n",
       "      <td>Nagano</td>\n",
       "      <td>Bobsleigh</td>\n",
       "      <td>Bobsleigh Men's Four</td>\n",
       "      <td>NaN</td>\n",
       "    </tr>\n",
       "    <tr>\n",
       "      <th>271115</th>\n",
       "      <td>135571</td>\n",
       "      <td>Tomasz Ireneusz ya</td>\n",
       "      <td>M</td>\n",
       "      <td>34.0</td>\n",
       "      <td>185.0</td>\n",
       "      <td>96.0</td>\n",
       "      <td>Poland</td>\n",
       "      <td>POL</td>\n",
       "      <td>2002 Winter</td>\n",
       "      <td>2002</td>\n",
       "      <td>Winter</td>\n",
       "      <td>Salt Lake City</td>\n",
       "      <td>Bobsleigh</td>\n",
       "      <td>Bobsleigh Men's Four</td>\n",
       "      <td>NaN</td>\n",
       "    </tr>\n",
       "  </tbody>\n",
       "</table>\n",
       "</div>"
      ],
      "text/plain": [
       "            ID                Name Sex   Age  Height  Weight      Team  NOC  \\\n",
       "271111  135569          Andrzej ya   M  29.0   179.0    89.0  Poland-1  POL   \n",
       "271112  135570            Piotr ya   M  27.0   176.0    59.0    Poland  POL   \n",
       "271113  135570            Piotr ya   M  27.0   176.0    59.0    Poland  POL   \n",
       "271114  135571  Tomasz Ireneusz ya   M  30.0   185.0    96.0    Poland  POL   \n",
       "271115  135571  Tomasz Ireneusz ya   M  34.0   185.0    96.0    Poland  POL   \n",
       "\n",
       "              Games  Year  Season            City        Sport  \\\n",
       "271111  1976 Winter  1976  Winter       Innsbruck         Luge   \n",
       "271112  2014 Winter  2014  Winter           Sochi  Ski Jumping   \n",
       "271113  2014 Winter  2014  Winter           Sochi  Ski Jumping   \n",
       "271114  1998 Winter  1998  Winter          Nagano    Bobsleigh   \n",
       "271115  2002 Winter  2002  Winter  Salt Lake City    Bobsleigh   \n",
       "\n",
       "                                           Event Medal  \n",
       "271111                Luge Mixed (Men)'s Doubles   NaN  \n",
       "271112  Ski Jumping Men's Large Hill, Individual   NaN  \n",
       "271113        Ski Jumping Men's Large Hill, Team   NaN  \n",
       "271114                      Bobsleigh Men's Four   NaN  \n",
       "271115                      Bobsleigh Men's Four   NaN  "
      ]
     },
     "execution_count": 8,
     "metadata": {},
     "output_type": "execute_result"
    }
   ],
   "source": [
    "data.tail()"
   ]
  },
  {
   "cell_type": "code",
   "execution_count": 10,
   "id": "b4c1df5f-7338-467d-b424-f37848bef7d5",
   "metadata": {},
   "outputs": [
    {
     "data": {
      "text/html": [
       "<div>\n",
       "<style scoped>\n",
       "    .dataframe tbody tr th:only-of-type {\n",
       "        vertical-align: middle;\n",
       "    }\n",
       "\n",
       "    .dataframe tbody tr th {\n",
       "        vertical-align: top;\n",
       "    }\n",
       "\n",
       "    .dataframe thead th {\n",
       "        text-align: right;\n",
       "    }\n",
       "</style>\n",
       "<table border=\"1\" class=\"dataframe\">\n",
       "  <thead>\n",
       "    <tr style=\"text-align: right;\">\n",
       "      <th></th>\n",
       "      <th>ID</th>\n",
       "      <th>Name</th>\n",
       "      <th>Sex</th>\n",
       "      <th>Age</th>\n",
       "      <th>Height</th>\n",
       "      <th>Weight</th>\n",
       "      <th>Team</th>\n",
       "      <th>NOC</th>\n",
       "      <th>Games</th>\n",
       "      <th>Year</th>\n",
       "      <th>Season</th>\n",
       "      <th>City</th>\n",
       "      <th>Sport</th>\n",
       "      <th>Event</th>\n",
       "      <th>Medal</th>\n",
       "    </tr>\n",
       "  </thead>\n",
       "  <tbody>\n",
       "    <tr>\n",
       "      <th>184659</th>\n",
       "      <td>92813</td>\n",
       "      <td>Roger Louis Pel</td>\n",
       "      <td>M</td>\n",
       "      <td>26.0</td>\n",
       "      <td>179.0</td>\n",
       "      <td>60.0</td>\n",
       "      <td>France</td>\n",
       "      <td>FRA</td>\n",
       "      <td>1928 Summer</td>\n",
       "      <td>1928</td>\n",
       "      <td>Summer</td>\n",
       "      <td>Amsterdam</td>\n",
       "      <td>Athletics</td>\n",
       "      <td>Athletics Men's 5,000 metres</td>\n",
       "      <td>NaN</td>\n",
       "    </tr>\n",
       "    <tr>\n",
       "      <th>117118</th>\n",
       "      <td>59309</td>\n",
       "      <td>Irina Khitrova</td>\n",
       "      <td>F</td>\n",
       "      <td>18.0</td>\n",
       "      <td>160.0</td>\n",
       "      <td>51.0</td>\n",
       "      <td>Bulgaria</td>\n",
       "      <td>BUL</td>\n",
       "      <td>1972 Summer</td>\n",
       "      <td>1972</td>\n",
       "      <td>Summer</td>\n",
       "      <td>Munich</td>\n",
       "      <td>Gymnastics</td>\n",
       "      <td>Gymnastics Women's Horse Vault</td>\n",
       "      <td>NaN</td>\n",
       "    </tr>\n",
       "    <tr>\n",
       "      <th>184586</th>\n",
       "      <td>92777</td>\n",
       "      <td>Jean Joseph Henri Petevin de Saint-Andr</td>\n",
       "      <td>M</td>\n",
       "      <td>40.0</td>\n",
       "      <td>NaN</td>\n",
       "      <td>NaN</td>\n",
       "      <td>France</td>\n",
       "      <td>FRA</td>\n",
       "      <td>1952 Summer</td>\n",
       "      <td>1952</td>\n",
       "      <td>Summer</td>\n",
       "      <td>Helsinki</td>\n",
       "      <td>Equestrianism</td>\n",
       "      <td>Equestrianism Mixed Dressage, Team</td>\n",
       "      <td>NaN</td>\n",
       "    </tr>\n",
       "    <tr>\n",
       "      <th>74296</th>\n",
       "      <td>37734</td>\n",
       "      <td>Thomas Futterknecht</td>\n",
       "      <td>M</td>\n",
       "      <td>21.0</td>\n",
       "      <td>177.0</td>\n",
       "      <td>68.0</td>\n",
       "      <td>Austria</td>\n",
       "      <td>AUT</td>\n",
       "      <td>1984 Summer</td>\n",
       "      <td>1984</td>\n",
       "      <td>Summer</td>\n",
       "      <td>Los Angeles</td>\n",
       "      <td>Athletics</td>\n",
       "      <td>Athletics Men's 400 metres Hurdles</td>\n",
       "      <td>NaN</td>\n",
       "    </tr>\n",
       "    <tr>\n",
       "      <th>174847</th>\n",
       "      <td>87835</td>\n",
       "      <td>Werner Obschernikat</td>\n",
       "      <td>M</td>\n",
       "      <td>33.0</td>\n",
       "      <td>180.0</td>\n",
       "      <td>78.0</td>\n",
       "      <td>West Germany</td>\n",
       "      <td>FRG</td>\n",
       "      <td>1988 Summer</td>\n",
       "      <td>1988</td>\n",
       "      <td>Summer</td>\n",
       "      <td>Seoul</td>\n",
       "      <td>Water Polo</td>\n",
       "      <td>Water Polo Men's Water Polo</td>\n",
       "      <td>NaN</td>\n",
       "    </tr>\n",
       "  </tbody>\n",
       "</table>\n",
       "</div>"
      ],
      "text/plain": [
       "           ID                                     Name Sex   Age  Height  \\\n",
       "184659  92813                          Roger Louis Pel   M  26.0   179.0   \n",
       "117118  59309                           Irina Khitrova   F  18.0   160.0   \n",
       "184586  92777  Jean Joseph Henri Petevin de Saint-Andr   M  40.0     NaN   \n",
       "74296   37734                      Thomas Futterknecht   M  21.0   177.0   \n",
       "174847  87835                      Werner Obschernikat   M  33.0   180.0   \n",
       "\n",
       "        Weight          Team  NOC        Games  Year  Season         City  \\\n",
       "184659    60.0        France  FRA  1928 Summer  1928  Summer    Amsterdam   \n",
       "117118    51.0      Bulgaria  BUL  1972 Summer  1972  Summer       Munich   \n",
       "184586     NaN        France  FRA  1952 Summer  1952  Summer     Helsinki   \n",
       "74296     68.0       Austria  AUT  1984 Summer  1984  Summer  Los Angeles   \n",
       "174847    78.0  West Germany  FRG  1988 Summer  1988  Summer        Seoul   \n",
       "\n",
       "                Sport                               Event Medal  \n",
       "184659      Athletics        Athletics Men's 5,000 metres   NaN  \n",
       "117118     Gymnastics      Gymnastics Women's Horse Vault   NaN  \n",
       "184586  Equestrianism  Equestrianism Mixed Dressage, Team   NaN  \n",
       "74296       Athletics  Athletics Men's 400 metres Hurdles   NaN  \n",
       "174847     Water Polo         Water Polo Men's Water Polo   NaN  "
      ]
     },
     "execution_count": 10,
     "metadata": {},
     "output_type": "execute_result"
    }
   ],
   "source": [
    "data.sample(5)"
   ]
  },
  {
   "cell_type": "code",
   "execution_count": 11,
   "id": "2812f1f7-37bc-4c78-8748-328d6d0540a7",
   "metadata": {},
   "outputs": [
    {
     "data": {
      "text/plain": [
       "271116"
      ]
     },
     "execution_count": 11,
     "metadata": {},
     "output_type": "execute_result"
    }
   ],
   "source": [
    "data.shape[0]"
   ]
  },
  {
   "cell_type": "code",
   "execution_count": 12,
   "id": "59b3f3ce-32ef-4253-8ceb-01ac37efc70f",
   "metadata": {},
   "outputs": [
    {
     "data": {
      "text/plain": [
       "15"
      ]
     },
     "execution_count": 12,
     "metadata": {},
     "output_type": "execute_result"
    }
   ],
   "source": [
    "data.shape[1]"
   ]
  },
  {
   "cell_type": "code",
   "execution_count": 14,
   "id": "42b33383-4d2b-4599-87c4-418827d62a1d",
   "metadata": {},
   "outputs": [
    {
     "data": {
      "text/plain": [
       "ID             0\n",
       "Name           0\n",
       "Sex            0\n",
       "Age         9474\n",
       "Height     60171\n",
       "Weight     62875\n",
       "Team           0\n",
       "NOC            0\n",
       "Games          0\n",
       "Year           0\n",
       "Season         0\n",
       "City           0\n",
       "Sport          0\n",
       "Event          0\n",
       "Medal     231333\n",
       "dtype: int64"
      ]
     },
     "execution_count": 14,
     "metadata": {},
     "output_type": "execute_result"
    }
   ],
   "source": [
    "data.isnull().sum()"
   ]
  },
  {
   "cell_type": "code",
   "execution_count": 15,
   "id": "29f198cc-9b5a-497d-b24b-d79a525a616b",
   "metadata": {},
   "outputs": [
    {
     "data": {
      "text/plain": [
       "Index(['ID', 'Name', 'Sex', 'Age', 'Height', 'Weight', 'Team', 'NOC', 'Games',\n",
       "       'Year', 'Season', 'City', 'Sport', 'Event', 'Medal'],\n",
       "      dtype='object')"
      ]
     },
     "execution_count": 15,
     "metadata": {},
     "output_type": "execute_result"
    }
   ],
   "source": [
    "data.columns"
   ]
  },
  {
   "cell_type": "code",
   "execution_count": 17,
   "id": "85ee800d-c9be-409e-a0e6-bdc4fa50edf9",
   "metadata": {},
   "outputs": [],
   "source": [
    "data['Age'] = data['Age'].fillna(data['Age'].mean())\n",
    "data['Height'] = data['Height'].fillna(data['Height'].mean())\n",
    "data['Weight'] = data['Weight'].fillna(data['Weight'].mean())"
   ]
  },
  {
   "cell_type": "code",
   "execution_count": 18,
   "id": "f1366210-a754-447e-ade9-40fb1cfa596e",
   "metadata": {},
   "outputs": [
    {
     "data": {
      "text/plain": [
       "ID             0\n",
       "Name           0\n",
       "Sex            0\n",
       "Age            0\n",
       "Height         0\n",
       "Weight         0\n",
       "Team           0\n",
       "NOC            0\n",
       "Games          0\n",
       "Year           0\n",
       "Season         0\n",
       "City           0\n",
       "Sport          0\n",
       "Event          0\n",
       "Medal     231333\n",
       "dtype: int64"
      ]
     },
     "execution_count": 18,
     "metadata": {},
     "output_type": "execute_result"
    }
   ],
   "source": [
    "data.isnull().sum()"
   ]
  },
  {
   "cell_type": "code",
   "execution_count": 19,
   "id": "5734b33e-6066-4441-a9f9-4bf44f619d98",
   "metadata": {},
   "outputs": [
    {
     "name": "stdout",
     "output_type": "stream",
     "text": [
      "<class 'pandas.core.frame.DataFrame'>\n",
      "RangeIndex: 271116 entries, 0 to 271115\n",
      "Data columns (total 15 columns):\n",
      " #   Column  Non-Null Count   Dtype  \n",
      "---  ------  --------------   -----  \n",
      " 0   ID      271116 non-null  int64  \n",
      " 1   Name    271116 non-null  object \n",
      " 2   Sex     271116 non-null  object \n",
      " 3   Age     271116 non-null  float64\n",
      " 4   Height  271116 non-null  float64\n",
      " 5   Weight  271116 non-null  float64\n",
      " 6   Team    271116 non-null  object \n",
      " 7   NOC     271116 non-null  object \n",
      " 8   Games   271116 non-null  object \n",
      " 9   Year    271116 non-null  int64  \n",
      " 10  Season  271116 non-null  object \n",
      " 11  City    271116 non-null  object \n",
      " 12  Sport   271116 non-null  object \n",
      " 13  Event   271116 non-null  object \n",
      " 14  Medal   39783 non-null   object \n",
      "dtypes: float64(3), int64(2), object(10)\n",
      "memory usage: 31.0+ MB\n"
     ]
    }
   ],
   "source": [
    "data.info()"
   ]
  },
  {
   "cell_type": "code",
   "execution_count": 20,
   "id": "c2a02425-c672-47c1-b56e-7e4d35271783",
   "metadata": {},
   "outputs": [
    {
     "data": {
      "text/html": [
       "<div>\n",
       "<style scoped>\n",
       "    .dataframe tbody tr th:only-of-type {\n",
       "        vertical-align: middle;\n",
       "    }\n",
       "\n",
       "    .dataframe tbody tr th {\n",
       "        vertical-align: top;\n",
       "    }\n",
       "\n",
       "    .dataframe thead th {\n",
       "        text-align: right;\n",
       "    }\n",
       "</style>\n",
       "<table border=\"1\" class=\"dataframe\">\n",
       "  <thead>\n",
       "    <tr style=\"text-align: right;\">\n",
       "      <th></th>\n",
       "      <th>ID</th>\n",
       "      <th>Age</th>\n",
       "      <th>Height</th>\n",
       "      <th>Weight</th>\n",
       "      <th>Year</th>\n",
       "    </tr>\n",
       "  </thead>\n",
       "  <tbody>\n",
       "    <tr>\n",
       "      <th>count</th>\n",
       "      <td>271116.000000</td>\n",
       "      <td>271116.000000</td>\n",
       "      <td>271116.00000</td>\n",
       "      <td>271116.000000</td>\n",
       "      <td>271116.000000</td>\n",
       "    </tr>\n",
       "    <tr>\n",
       "      <th>mean</th>\n",
       "      <td>68248.954396</td>\n",
       "      <td>25.556898</td>\n",
       "      <td>175.33897</td>\n",
       "      <td>70.702393</td>\n",
       "      <td>1978.378480</td>\n",
       "    </tr>\n",
       "    <tr>\n",
       "      <th>std</th>\n",
       "      <td>39022.286345</td>\n",
       "      <td>6.280857</td>\n",
       "      <td>9.27810</td>\n",
       "      <td>12.574690</td>\n",
       "      <td>29.877632</td>\n",
       "    </tr>\n",
       "    <tr>\n",
       "      <th>min</th>\n",
       "      <td>1.000000</td>\n",
       "      <td>10.000000</td>\n",
       "      <td>127.00000</td>\n",
       "      <td>25.000000</td>\n",
       "      <td>1896.000000</td>\n",
       "    </tr>\n",
       "    <tr>\n",
       "      <th>25%</th>\n",
       "      <td>34643.000000</td>\n",
       "      <td>22.000000</td>\n",
       "      <td>170.00000</td>\n",
       "      <td>63.000000</td>\n",
       "      <td>1960.000000</td>\n",
       "    </tr>\n",
       "    <tr>\n",
       "      <th>50%</th>\n",
       "      <td>68205.000000</td>\n",
       "      <td>25.000000</td>\n",
       "      <td>175.33897</td>\n",
       "      <td>70.702393</td>\n",
       "      <td>1988.000000</td>\n",
       "    </tr>\n",
       "    <tr>\n",
       "      <th>75%</th>\n",
       "      <td>102097.250000</td>\n",
       "      <td>28.000000</td>\n",
       "      <td>180.00000</td>\n",
       "      <td>75.000000</td>\n",
       "      <td>2002.000000</td>\n",
       "    </tr>\n",
       "    <tr>\n",
       "      <th>max</th>\n",
       "      <td>135571.000000</td>\n",
       "      <td>97.000000</td>\n",
       "      <td>226.00000</td>\n",
       "      <td>214.000000</td>\n",
       "      <td>2016.000000</td>\n",
       "    </tr>\n",
       "  </tbody>\n",
       "</table>\n",
       "</div>"
      ],
      "text/plain": [
       "                  ID            Age        Height         Weight  \\\n",
       "count  271116.000000  271116.000000  271116.00000  271116.000000   \n",
       "mean    68248.954396      25.556898     175.33897      70.702393   \n",
       "std     39022.286345       6.280857       9.27810      12.574690   \n",
       "min         1.000000      10.000000     127.00000      25.000000   \n",
       "25%     34643.000000      22.000000     170.00000      63.000000   \n",
       "50%     68205.000000      25.000000     175.33897      70.702393   \n",
       "75%    102097.250000      28.000000     180.00000      75.000000   \n",
       "max    135571.000000      97.000000     226.00000     214.000000   \n",
       "\n",
       "                Year  \n",
       "count  271116.000000  \n",
       "mean     1978.378480  \n",
       "std        29.877632  \n",
       "min      1896.000000  \n",
       "25%      1960.000000  \n",
       "50%      1988.000000  \n",
       "75%      2002.000000  \n",
       "max      2016.000000  "
      ]
     },
     "execution_count": 20,
     "metadata": {},
     "output_type": "execute_result"
    }
   ],
   "source": [
    "data.describe()"
   ]
  },
  {
   "cell_type": "code",
   "execution_count": 24,
   "id": "42e19655-472c-4b6f-b2b2-bc412b4f2c11",
   "metadata": {},
   "outputs": [
    {
     "data": {
      "text/plain": [
       "np.int64(1385)"
      ]
     },
     "execution_count": 24,
     "metadata": {},
     "output_type": "execute_result"
    }
   ],
   "source": [
    "data.duplicated().sum()"
   ]
  },
  {
   "cell_type": "code",
   "execution_count": 27,
   "id": "406d2f89-1eb1-40bf-836c-2f2a59099f97",
   "metadata": {},
   "outputs": [
    {
     "data": {
      "text/html": [
       "<div>\n",
       "<style scoped>\n",
       "    .dataframe tbody tr th:only-of-type {\n",
       "        vertical-align: middle;\n",
       "    }\n",
       "\n",
       "    .dataframe tbody tr th {\n",
       "        vertical-align: top;\n",
       "    }\n",
       "\n",
       "    .dataframe thead th {\n",
       "        text-align: right;\n",
       "    }\n",
       "</style>\n",
       "<table border=\"1\" class=\"dataframe\">\n",
       "  <thead>\n",
       "    <tr style=\"text-align: right;\">\n",
       "      <th></th>\n",
       "      <th>ID</th>\n",
       "      <th>Name</th>\n",
       "      <th>Sex</th>\n",
       "      <th>Age</th>\n",
       "      <th>Height</th>\n",
       "      <th>Weight</th>\n",
       "      <th>Team</th>\n",
       "      <th>NOC</th>\n",
       "      <th>Games</th>\n",
       "      <th>Year</th>\n",
       "      <th>Season</th>\n",
       "      <th>City</th>\n",
       "      <th>Sport</th>\n",
       "      <th>Event</th>\n",
       "      <th>Medal</th>\n",
       "    </tr>\n",
       "  </thead>\n",
       "  <tbody>\n",
       "    <tr>\n",
       "      <th>1252</th>\n",
       "      <td>704</td>\n",
       "      <td>Dsir Antoine Acket</td>\n",
       "      <td>M</td>\n",
       "      <td>27.0</td>\n",
       "      <td>175.33897</td>\n",
       "      <td>70.702393</td>\n",
       "      <td>Belgium</td>\n",
       "      <td>BEL</td>\n",
       "      <td>1932 Summer</td>\n",
       "      <td>1932</td>\n",
       "      <td>Summer</td>\n",
       "      <td>Los Angeles</td>\n",
       "      <td>Art Competitions</td>\n",
       "      <td>Art Competitions Mixed Painting, Unknown Event</td>\n",
       "      <td>NaN</td>\n",
       "    </tr>\n",
       "    <tr>\n",
       "      <th>4282</th>\n",
       "      <td>2449</td>\n",
       "      <td>William Truman Aldrich</td>\n",
       "      <td>M</td>\n",
       "      <td>48.0</td>\n",
       "      <td>175.33897</td>\n",
       "      <td>70.702393</td>\n",
       "      <td>United States</td>\n",
       "      <td>USA</td>\n",
       "      <td>1928 Summer</td>\n",
       "      <td>1928</td>\n",
       "      <td>Summer</td>\n",
       "      <td>Amsterdam</td>\n",
       "      <td>Art Competitions</td>\n",
       "      <td>Art Competitions Mixed Painting, Drawings And ...</td>\n",
       "      <td>NaN</td>\n",
       "    </tr>\n",
       "    <tr>\n",
       "      <th>4283</th>\n",
       "      <td>2449</td>\n",
       "      <td>William Truman Aldrich</td>\n",
       "      <td>M</td>\n",
       "      <td>48.0</td>\n",
       "      <td>175.33897</td>\n",
       "      <td>70.702393</td>\n",
       "      <td>United States</td>\n",
       "      <td>USA</td>\n",
       "      <td>1928 Summer</td>\n",
       "      <td>1928</td>\n",
       "      <td>Summer</td>\n",
       "      <td>Amsterdam</td>\n",
       "      <td>Art Competitions</td>\n",
       "      <td>Art Competitions Mixed Painting, Drawings And ...</td>\n",
       "      <td>NaN</td>\n",
       "    </tr>\n",
       "    <tr>\n",
       "      <th>4862</th>\n",
       "      <td>2777</td>\n",
       "      <td>Hermann Reinhard Alker</td>\n",
       "      <td>M</td>\n",
       "      <td>43.0</td>\n",
       "      <td>175.33897</td>\n",
       "      <td>70.702393</td>\n",
       "      <td>Germany</td>\n",
       "      <td>GER</td>\n",
       "      <td>1928 Summer</td>\n",
       "      <td>1928</td>\n",
       "      <td>Summer</td>\n",
       "      <td>Amsterdam</td>\n",
       "      <td>Art Competitions</td>\n",
       "      <td>Art Competitions Mixed Architecture, Designs F...</td>\n",
       "      <td>NaN</td>\n",
       "    </tr>\n",
       "    <tr>\n",
       "      <th>4864</th>\n",
       "      <td>2777</td>\n",
       "      <td>Hermann Reinhard Alker</td>\n",
       "      <td>M</td>\n",
       "      <td>43.0</td>\n",
       "      <td>175.33897</td>\n",
       "      <td>70.702393</td>\n",
       "      <td>Germany</td>\n",
       "      <td>GER</td>\n",
       "      <td>1928 Summer</td>\n",
       "      <td>1928</td>\n",
       "      <td>Summer</td>\n",
       "      <td>Amsterdam</td>\n",
       "      <td>Art Competitions</td>\n",
       "      <td>Art Competitions Mixed Architecture, Architect...</td>\n",
       "      <td>NaN</td>\n",
       "    </tr>\n",
       "  </tbody>\n",
       "</table>\n",
       "</div>"
      ],
      "text/plain": [
       "        ID                    Name Sex   Age     Height     Weight  \\\n",
       "1252   704      Dsir Antoine Acket   M  27.0  175.33897  70.702393   \n",
       "4282  2449  William Truman Aldrich   M  48.0  175.33897  70.702393   \n",
       "4283  2449  William Truman Aldrich   M  48.0  175.33897  70.702393   \n",
       "4862  2777  Hermann Reinhard Alker   M  43.0  175.33897  70.702393   \n",
       "4864  2777  Hermann Reinhard Alker   M  43.0  175.33897  70.702393   \n",
       "\n",
       "               Team  NOC        Games  Year  Season         City  \\\n",
       "1252        Belgium  BEL  1932 Summer  1932  Summer  Los Angeles   \n",
       "4282  United States  USA  1928 Summer  1928  Summer    Amsterdam   \n",
       "4283  United States  USA  1928 Summer  1928  Summer    Amsterdam   \n",
       "4862        Germany  GER  1928 Summer  1928  Summer    Amsterdam   \n",
       "4864        Germany  GER  1928 Summer  1928  Summer    Amsterdam   \n",
       "\n",
       "                 Sport                                              Event  \\\n",
       "1252  Art Competitions     Art Competitions Mixed Painting, Unknown Event   \n",
       "4282  Art Competitions  Art Competitions Mixed Painting, Drawings And ...   \n",
       "4283  Art Competitions  Art Competitions Mixed Painting, Drawings And ...   \n",
       "4862  Art Competitions  Art Competitions Mixed Architecture, Designs F...   \n",
       "4864  Art Competitions  Art Competitions Mixed Architecture, Architect...   \n",
       "\n",
       "     Medal  \n",
       "1252   NaN  \n",
       "4282   NaN  \n",
       "4283   NaN  \n",
       "4862   NaN  \n",
       "4864   NaN  "
      ]
     },
     "execution_count": 27,
     "metadata": {},
     "output_type": "execute_result"
    }
   ],
   "source": [
    "data[data.duplicated()].head()"
   ]
  },
  {
   "cell_type": "code",
   "execution_count": 28,
   "id": "1ab23710-2235-4492-b104-3a0fab40b17f",
   "metadata": {},
   "outputs": [],
   "source": [
    "data = data.drop_duplicates()"
   ]
  },
  {
   "cell_type": "code",
   "execution_count": 29,
   "id": "53e29be2-4075-41f0-b8d4-52cd4efbd40f",
   "metadata": {},
   "outputs": [
    {
     "data": {
      "text/plain": [
       "np.False_"
      ]
     },
     "execution_count": 29,
     "metadata": {},
     "output_type": "execute_result"
    }
   ],
   "source": [
    "data.duplicated().any()"
   ]
  },
  {
   "cell_type": "code",
   "execution_count": 30,
   "id": "ae408b4a-4011-43a4-8b97-dbb6a018fc81",
   "metadata": {},
   "outputs": [
    {
     "data": {
      "text/plain": [
       "(269731, 15)"
      ]
     },
     "execution_count": 30,
     "metadata": {},
     "output_type": "execute_result"
    }
   ],
   "source": [
    "data.shape"
   ]
  },
  {
   "cell_type": "code",
   "execution_count": 31,
   "id": "c1c6bbbd-f47c-42cc-ae38-1144d3cf7e4a",
   "metadata": {},
   "outputs": [
    {
     "data": {
      "text/plain": [
       "1385"
      ]
     },
     "execution_count": 31,
     "metadata": {},
     "output_type": "execute_result"
    }
   ],
   "source": [
    "271116-269731"
   ]
  },
  {
   "cell_type": "code",
   "execution_count": 33,
   "id": "b9133899-dece-48dd-9c52-aeca70799c4e",
   "metadata": {},
   "outputs": [],
   "source": [
    "numerical_data = data.select_dtypes(include=['number'])"
   ]
  },
  {
   "cell_type": "code",
   "execution_count": 34,
   "id": "f8278e41-f8d3-4201-aee8-f28de72df191",
   "metadata": {},
   "outputs": [
    {
     "data": {
      "text/html": [
       "<div>\n",
       "<style scoped>\n",
       "    .dataframe tbody tr th:only-of-type {\n",
       "        vertical-align: middle;\n",
       "    }\n",
       "\n",
       "    .dataframe tbody tr th {\n",
       "        vertical-align: top;\n",
       "    }\n",
       "\n",
       "    .dataframe thead th {\n",
       "        text-align: right;\n",
       "    }\n",
       "</style>\n",
       "<table border=\"1\" class=\"dataframe\">\n",
       "  <thead>\n",
       "    <tr style=\"text-align: right;\">\n",
       "      <th></th>\n",
       "      <th>ID</th>\n",
       "      <th>Age</th>\n",
       "      <th>Height</th>\n",
       "      <th>Weight</th>\n",
       "      <th>Year</th>\n",
       "    </tr>\n",
       "  </thead>\n",
       "  <tbody>\n",
       "    <tr>\n",
       "      <th>ID</th>\n",
       "      <td>1.000000</td>\n",
       "      <td>-0.002825</td>\n",
       "      <td>-0.009791</td>\n",
       "      <td>-0.008059</td>\n",
       "      <td>0.011381</td>\n",
       "    </tr>\n",
       "    <tr>\n",
       "      <th>Age</th>\n",
       "      <td>-0.002825</td>\n",
       "      <td>1.000000</td>\n",
       "      <td>0.111115</td>\n",
       "      <td>0.168071</td>\n",
       "      <td>-0.088250</td>\n",
       "    </tr>\n",
       "    <tr>\n",
       "      <th>Height</th>\n",
       "      <td>-0.009791</td>\n",
       "      <td>0.111115</td>\n",
       "      <td>1.000000</td>\n",
       "      <td>0.786635</td>\n",
       "      <td>0.030126</td>\n",
       "    </tr>\n",
       "    <tr>\n",
       "      <th>Weight</th>\n",
       "      <td>-0.008059</td>\n",
       "      <td>0.168071</td>\n",
       "      <td>0.786635</td>\n",
       "      <td>1.000000</td>\n",
       "      <td>0.011598</td>\n",
       "    </tr>\n",
       "    <tr>\n",
       "      <th>Year</th>\n",
       "      <td>0.011381</td>\n",
       "      <td>-0.088250</td>\n",
       "      <td>0.030126</td>\n",
       "      <td>0.011598</td>\n",
       "      <td>1.000000</td>\n",
       "    </tr>\n",
       "  </tbody>\n",
       "</table>\n",
       "</div>"
      ],
      "text/plain": [
       "              ID       Age    Height    Weight      Year\n",
       "ID      1.000000 -0.002825 -0.009791 -0.008059  0.011381\n",
       "Age    -0.002825  1.000000  0.111115  0.168071 -0.088250\n",
       "Height -0.009791  0.111115  1.000000  0.786635  0.030126\n",
       "Weight -0.008059  0.168071  0.786635  1.000000  0.011598\n",
       "Year    0.011381 -0.088250  0.030126  0.011598  1.000000"
      ]
     },
     "execution_count": 34,
     "metadata": {},
     "output_type": "execute_result"
    }
   ],
   "source": [
    "numerical_data.corr()"
   ]
  },
  {
   "cell_type": "code",
   "execution_count": 35,
   "id": "3413d7d2-179c-469c-bad9-d8637fc1dafd",
   "metadata": {},
   "outputs": [
    {
     "data": {
      "text/plain": [
       "<Axes: >"
      ]
     },
     "execution_count": 35,
     "metadata": {},
     "output_type": "execute_result"
    },
    {
     "data": {
      "image/png": "[encoded data removed]",
      "text/plain": [
       "<Figure size 640x480 with 2 Axes>"
      ]
     },
     "metadata": {},
     "output_type": "display_data"
    }
   ],
   "source": [
    "sns.heatmap(numerical_data.corr())"
   ]
  },
  {
   "cell_type": "code",
   "execution_count": 36,
   "id": "39755724-5ee8-460f-bdba-31389223d972",
   "metadata": {},
   "outputs": [
    {
     "data": {
      "text/html": [
       "<div>\n",
       "<style scoped>\n",
       "    .dataframe tbody tr th:only-of-type {\n",
       "        vertical-align: middle;\n",
       "    }\n",
       "\n",
       "    .dataframe tbody tr th {\n",
       "        vertical-align: top;\n",
       "    }\n",
       "\n",
       "    .dataframe thead th {\n",
       "        text-align: right;\n",
       "    }\n",
       "</style>\n",
       "<table border=\"1\" class=\"dataframe\">\n",
       "  <thead>\n",
       "    <tr style=\"text-align: right;\">\n",
       "      <th></th>\n",
       "      <th>ID</th>\n",
       "      <th>Name</th>\n",
       "      <th>Sex</th>\n",
       "      <th>Age</th>\n",
       "      <th>Height</th>\n",
       "      <th>Weight</th>\n",
       "      <th>Team</th>\n",
       "      <th>NOC</th>\n",
       "      <th>Games</th>\n",
       "      <th>Year</th>\n",
       "      <th>Season</th>\n",
       "      <th>City</th>\n",
       "      <th>Sport</th>\n",
       "      <th>Event</th>\n",
       "      <th>Medal</th>\n",
       "    </tr>\n",
       "  </thead>\n",
       "  <tbody>\n",
       "    <tr>\n",
       "      <th>0</th>\n",
       "      <td>1</td>\n",
       "      <td>A Dijiang</td>\n",
       "      <td>M</td>\n",
       "      <td>24.0</td>\n",
       "      <td>180.0</td>\n",
       "      <td>80.0</td>\n",
       "      <td>China</td>\n",
       "      <td>CHN</td>\n",
       "      <td>1992 Summer</td>\n",
       "      <td>1992</td>\n",
       "      <td>Summer</td>\n",
       "      <td>Barcelona</td>\n",
       "      <td>Basketball</td>\n",
       "      <td>Basketball Men's Basketball</td>\n",
       "      <td>NaN</td>\n",
       "    </tr>\n",
       "  </tbody>\n",
       "</table>\n",
       "</div>"
      ],
      "text/plain": [
       "   ID       Name Sex   Age  Height  Weight   Team  NOC        Games  Year  \\\n",
       "0   1  A Dijiang   M  24.0   180.0    80.0  China  CHN  1992 Summer  1992   \n",
       "\n",
       "   Season       City       Sport                        Event Medal  \n",
       "0  Summer  Barcelona  Basketball  Basketball Men's Basketball   NaN  "
      ]
     },
     "execution_count": 36,
     "metadata": {},
     "output_type": "execute_result"
    }
   ],
   "source": [
    "data.head(1)"
   ]
  },
  {
   "cell_type": "code",
   "execution_count": 39,
   "id": "d46713e8-a930-4c60-80ef-a5c4672b818a",
   "metadata": {},
   "outputs": [],
   "source": [
    "cat = []\n",
    "num = []\n",
    "for column in data.columns:\n",
    "    if data[column].nunique() > 10:\n",
    "        num.append(column)\n",
    "    else:\n",
    "        cat.append(column)"
   ]
  },
  {
   "cell_type": "code",
   "execution_count": 40,
   "id": "ba5a0a16-4424-4759-9f3e-951ca6c65156",
   "metadata": {},
   "outputs": [
    {
     "data": {
      "text/plain": [
       "['Sex', 'Season', 'Medal']"
      ]
     },
     "execution_count": 40,
     "metadata": {},
     "output_type": "execute_result"
    }
   ],
   "source": [
    "cat"
   ]
  },
  {
   "cell_type": "code",
   "execution_count": 42,
   "id": "24524036-8bdf-4362-a00f-70d44fc75f97",
   "metadata": {},
   "outputs": [
    {
     "data": {
      "text/plain": [
       "Index(['ID', 'Name', 'Sex', 'Age', 'Height', 'Weight', 'Team', 'NOC', 'Games',\n",
       "       'Year', 'Season', 'City', 'Sport', 'Event', 'Medal'],\n",
       "      dtype='object')"
      ]
     },
     "execution_count": 42,
     "metadata": {},
     "output_type": "execute_result"
    }
   ],
   "source": [
    "data.columns"
   ]
  },
  {
   "cell_type": "code",
   "execution_count": 51,
   "id": "84ca21aa-9a17-4090-acac-f9020f62b6a1",
   "metadata": {},
   "outputs": [
    {
     "data": {
      "image/png": "[encoded data removed]",
      "text/plain": [
       "<Figure size 640x480 with 1 Axes>"
      ]
     },
     "metadata": {},
     "output_type": "display_data"
    }
   ],
   "source": [
    "data['Sex'].value_counts().plot(kind='bar')\n",
    "plt.title(\"Gender Distribution in the Olympics\")\n",
    "plt.xlabel('Gender')\n",
    "plt.ylabel('Count')\n",
    "plt.show()"
   ]
  },
  {
   "cell_type": "code",
   "execution_count": 50,
   "id": "f4ae37bd-dca6-4c6d-8057-dc9d72635bb8",
   "metadata": {},
   "outputs": [
    {
     "data": {
      "image/png": "[encoded data removed]",
      "text/plain": [
       "<Figure size 600x300 with 1 Axes>"
      ]
     },
     "metadata": {},
     "output_type": "display_data"
    }
   ],
   "source": [
    "gen_dist = data['Sex'].value_counts()\n",
    "plt.figure(figsize=(6,3))\n",
    "sns.barplot(x=gen_dist.index,y = gen_dist.values)\n",
    "plt.title(\"Gender Distribution in the Olympics\")\n",
    "plt.xlabel('Gender')\n",
    "plt.ylabel('Count')\n",
    "plt.show()"
   ]
  },
  {
   "cell_type": "code",
   "execution_count": 65,
   "id": "2f327e5d-4e93-4f3f-b9bb-145f4f1a3979",
   "metadata": {},
   "outputs": [
    {
     "data": {
      "image/png": "[encoded data removed]",
      "text/plain": [
       "<Figure size 600x300 with 1 Axes>"
      ]
     },
     "metadata": {},
     "output_type": "display_data"
    }
   ],
   "source": [
    "top10 = data['Sport'].value_counts().head(10)\n",
    "plt.figure(figsize=(6,3))\n",
    "sns.barplot(x=top10.values, y=top10.index)\n",
    "plt.title(\"Top 10 Sports by participation\")\n",
    "plt.xlabel('Participation')\n",
    "plt.ylabel('Sports')\n",
    "plt.show()"
   ]
  },
  {
   "cell_type": "code",
   "execution_count": 69,
   "id": "5ce32a53-6b0b-4a18-9804-168c489854dc",
   "metadata": {},
   "outputs": [
    {
     "data": {
      "text/plain": [
       "<Axes: ylabel='count'>"
      ]
     },
     "execution_count": 69,
     "metadata": {},
     "output_type": "execute_result"
    },
    {
     "data": {
      "image/png": "[encoded data removed]",
      "text/plain": [
       "<Figure size 640x480 with 1 Axes>"
      ]
     },
     "metadata": {},
     "output_type": "display_data"
    }
   ],
   "source": [
    "data['Sport'].value_counts().head(10).plot(kind='pie', autopct=\"%1.2f%%\")"
   ]
  },
  {
   "cell_type": "code",
   "execution_count": 70,
   "id": "e1bef76c-087d-4654-b1a7-fbf6a9b0b401",
   "metadata": {},
   "outputs": [
    {
     "data": {
      "text/html": [
       "<div>\n",
       "<style scoped>\n",
       "    .dataframe tbody tr th:only-of-type {\n",
       "        vertical-align: middle;\n",
       "    }\n",
       "\n",
       "    .dataframe tbody tr th {\n",
       "        vertical-align: top;\n",
       "    }\n",
       "\n",
       "    .dataframe thead th {\n",
       "        text-align: right;\n",
       "    }\n",
       "</style>\n",
       "<table border=\"1\" class=\"dataframe\">\n",
       "  <thead>\n",
       "    <tr style=\"text-align: right;\">\n",
       "      <th></th>\n",
       "      <th>ID</th>\n",
       "      <th>Name</th>\n",
       "      <th>Sex</th>\n",
       "      <th>Age</th>\n",
       "      <th>Height</th>\n",
       "      <th>Weight</th>\n",
       "      <th>Team</th>\n",
       "      <th>NOC</th>\n",
       "      <th>Games</th>\n",
       "      <th>Year</th>\n",
       "      <th>Season</th>\n",
       "      <th>City</th>\n",
       "      <th>Sport</th>\n",
       "      <th>Event</th>\n",
       "      <th>Medal</th>\n",
       "    </tr>\n",
       "  </thead>\n",
       "  <tbody>\n",
       "    <tr>\n",
       "      <th>0</th>\n",
       "      <td>1</td>\n",
       "      <td>A Dijiang</td>\n",
       "      <td>M</td>\n",
       "      <td>24.0</td>\n",
       "      <td>180.0</td>\n",
       "      <td>80.0</td>\n",
       "      <td>China</td>\n",
       "      <td>CHN</td>\n",
       "      <td>1992 Summer</td>\n",
       "      <td>1992</td>\n",
       "      <td>Summer</td>\n",
       "      <td>Barcelona</td>\n",
       "      <td>Basketball</td>\n",
       "      <td>Basketball Men's Basketball</td>\n",
       "      <td>NaN</td>\n",
       "    </tr>\n",
       "  </tbody>\n",
       "</table>\n",
       "</div>"
      ],
      "text/plain": [
       "   ID       Name Sex   Age  Height  Weight   Team  NOC        Games  Year  \\\n",
       "0   1  A Dijiang   M  24.0   180.0    80.0  China  CHN  1992 Summer  1992   \n",
       "\n",
       "   Season       City       Sport                        Event Medal  \n",
       "0  Summer  Barcelona  Basketball  Basketball Men's Basketball   NaN  "
      ]
     },
     "execution_count": 70,
     "metadata": {},
     "output_type": "execute_result"
    }
   ],
   "source": [
    "data.head(1)"
   ]
  },
  {
   "cell_type": "code",
   "execution_count": 73,
   "id": "be541694-98cc-4d50-a1d1-2113116faf9a",
   "metadata": {},
   "outputs": [
    {
     "data": {
      "text/plain": [
       "'Athletics'"
      ]
     },
     "execution_count": 73,
     "metadata": {},
     "output_type": "execute_result"
    }
   ],
   "source": [
    "data['Sport'].value_counts().idxmax()"
   ]
  },
  {
   "cell_type": "code",
   "execution_count": 74,
   "id": "2954580c-7652-490a-b7e2-764f958e71ca",
   "metadata": {},
   "outputs": [
    {
     "data": {
      "text/plain": [
       "Sport\n",
       "Athletics        38624\n",
       "Gymnastics       26707\n",
       "Swimming         23195\n",
       "Shooting         11448\n",
       "Cycling          10827\n",
       "                 ...  \n",
       "Racquets            12\n",
       "Jeu De Paume        11\n",
       "Roque                4\n",
       "Basque Pelota        2\n",
       "Aeronautics          1\n",
       "Name: count, Length: 66, dtype: int64"
      ]
     },
     "execution_count": 74,
     "metadata": {},
     "output_type": "execute_result"
    }
   ],
   "source": [
    "data['Sport'].value_counts()"
   ]
  },
  {
   "cell_type": "code",
   "execution_count": 75,
   "id": "a30e99a1-7919-43d5-9834-64a9238251d1",
   "metadata": {},
   "outputs": [
    {
     "data": {
      "text/html": [
       "<div>\n",
       "<style scoped>\n",
       "    .dataframe tbody tr th:only-of-type {\n",
       "        vertical-align: middle;\n",
       "    }\n",
       "\n",
       "    .dataframe tbody tr th {\n",
       "        vertical-align: top;\n",
       "    }\n",
       "\n",
       "    .dataframe thead th {\n",
       "        text-align: right;\n",
       "    }\n",
       "</style>\n",
       "<table border=\"1\" class=\"dataframe\">\n",
       "  <thead>\n",
       "    <tr style=\"text-align: right;\">\n",
       "      <th></th>\n",
       "      <th>ID</th>\n",
       "      <th>Name</th>\n",
       "      <th>Sex</th>\n",
       "      <th>Age</th>\n",
       "      <th>Height</th>\n",
       "      <th>Weight</th>\n",
       "      <th>Team</th>\n",
       "      <th>NOC</th>\n",
       "      <th>Games</th>\n",
       "      <th>Year</th>\n",
       "      <th>Season</th>\n",
       "      <th>City</th>\n",
       "      <th>Sport</th>\n",
       "      <th>Event</th>\n",
       "      <th>Medal</th>\n",
       "    </tr>\n",
       "  </thead>\n",
       "  <tbody>\n",
       "    <tr>\n",
       "      <th>0</th>\n",
       "      <td>1</td>\n",
       "      <td>A Dijiang</td>\n",
       "      <td>M</td>\n",
       "      <td>24.0</td>\n",
       "      <td>180.0</td>\n",
       "      <td>80.0</td>\n",
       "      <td>China</td>\n",
       "      <td>CHN</td>\n",
       "      <td>1992 Summer</td>\n",
       "      <td>1992</td>\n",
       "      <td>Summer</td>\n",
       "      <td>Barcelona</td>\n",
       "      <td>Basketball</td>\n",
       "      <td>Basketball Men's Basketball</td>\n",
       "      <td>NaN</td>\n",
       "    </tr>\n",
       "  </tbody>\n",
       "</table>\n",
       "</div>"
      ],
      "text/plain": [
       "   ID       Name Sex   Age  Height  Weight   Team  NOC        Games  Year  \\\n",
       "0   1  A Dijiang   M  24.0   180.0    80.0  China  CHN  1992 Summer  1992   \n",
       "\n",
       "   Season       City       Sport                        Event Medal  \n",
       "0  Summer  Barcelona  Basketball  Basketball Men's Basketball   NaN  "
      ]
     },
     "execution_count": 75,
     "metadata": {},
     "output_type": "execute_result"
    }
   ],
   "source": [
    "data.head(1)"
   ]
  },
  {
   "cell_type": "code",
   "execution_count": 81,
   "id": "0fb6347e-c7b1-4245-9995-c76550cfef2f",
   "metadata": {},
   "outputs": [
    {
     "data": {
      "text/plain": [
       "<Axes: xlabel='Age', ylabel='Count'>"
      ]
     },
     "execution_count": 81,
     "metadata": {},
     "output_type": "execute_result"
    },
    {
     "data": {
      "image/png": "[encoded data removed]",
      "text/plain": [
       "<Figure size 640x480 with 1 Axes>"
      ]
     },
     "metadata": {},
     "output_type": "display_data"
    }
   ],
   "source": [
    "sns.histplot(data['Age'], bins=20,kde=True)"
   ]
  },
  {
   "cell_type": "code",
   "execution_count": 83,
   "id": "4fc2e688-a2bd-4940-a934-8f82cb838d04",
   "metadata": {},
   "outputs": [
    {
     "data": {
      "text/plain": [
       "<Axes: xlabel='Age'>"
      ]
     },
     "execution_count": 83,
     "metadata": {},
     "output_type": "execute_result"
    },
    {
     "data": {
      "image/png": "[encoded data removed]",
      "text/plain": [
       "<Figure size 640x480 with 1 Axes>"
      ]
     },
     "metadata": {},
     "output_type": "display_data"
    }
   ],
   "source": [
    "sns.boxplot(x=data['Age'])"
   ]
  },
  {
   "cell_type": "code",
   "execution_count": 84,
   "id": "008037d0-16c0-4998-a364-69635f03d662",
   "metadata": {},
   "outputs": [
    {
     "data": {
      "text/plain": [
       "np.float64(1.5877141959478505)"
      ]
     },
     "execution_count": 84,
     "metadata": {},
     "output_type": "execute_result"
    }
   ],
   "source": [
    "data['Age'].skew()"
   ]
  },
  {
   "cell_type": "code",
   "execution_count": 85,
   "id": "0649e930-dcbf-46f6-ae3f-3412720db9f8",
   "metadata": {},
   "outputs": [
    {
     "data": {
      "text/plain": [
       "10.0"
      ]
     },
     "execution_count": 85,
     "metadata": {},
     "output_type": "execute_result"
    }
   ],
   "source": [
    "data['Age'].min()"
   ]
  },
  {
   "cell_type": "code",
   "execution_count": 86,
   "id": "4e3158fd-90ea-4fcb-b1a1-7638cb2c7f4f",
   "metadata": {},
   "outputs": [
    {
     "data": {
      "text/plain": [
       "97.0"
      ]
     },
     "execution_count": 86,
     "metadata": {},
     "output_type": "execute_result"
    }
   ],
   "source": [
    "data['Age'].max()"
   ]
  },
  {
   "cell_type": "code",
   "execution_count": 87,
   "id": "a5143a05-2414-48fe-8b5e-82195bdae7f3",
   "metadata": {},
   "outputs": [
    {
     "data": {
      "text/plain": [
       "np.float64(25.458302932174)"
      ]
     },
     "execution_count": 87,
     "metadata": {},
     "output_type": "execute_result"
    }
   ],
   "source": [
    "data['Age'].mean()"
   ]
  },
  {
   "cell_type": "code",
   "execution_count": 88,
   "id": "1b21730b-98c6-40cc-af4c-7085c32783c1",
   "metadata": {},
   "outputs": [
    {
     "data": {
      "text/plain": [
       "25.0"
      ]
     },
     "execution_count": 88,
     "metadata": {},
     "output_type": "execute_result"
    }
   ],
   "source": [
    "data['Age'].median()"
   ]
  },
  {
   "cell_type": "code",
   "execution_count": 89,
   "id": "0135e2b1-feea-4233-a8f7-5a0827ab40cc",
   "metadata": {},
   "outputs": [
    {
     "data": {
      "text/plain": [
       "0    23.0\n",
       "Name: Age, dtype: float64"
      ]
     },
     "execution_count": 89,
     "metadata": {},
     "output_type": "execute_result"
    }
   ],
   "source": [
    "data['Age'].mode()"
   ]
  },
  {
   "cell_type": "code",
   "execution_count": 97,
   "id": "3f66514a-230a-4d6a-9f54-691f647c0a22",
   "metadata": {},
   "outputs": [],
   "source": [
    "#multivariate and bivariate analysis\n",
    "#Numerical-Numerical Relationship"
   ]
  },
  {
   "cell_type": "code",
   "execution_count": 94,
   "id": "4e9fbeb1-ba98-4c50-b3ff-8f5a3b49c585",
   "metadata": {
    "scrolled": true
   },
   "outputs": [
    {
     "data": {
      "text/plain": [
       "<Axes: xlabel='Age', ylabel='Height'>"
      ]
     },
     "execution_count": 94,
     "metadata": {},
     "output_type": "execute_result"
    },
    {
     "data": {
      "image/png": "[encoded data removed]",
      "text/plain": [
       "<Figure size 600x500 with 1 Axes>"
      ]
     },
     "metadata": {},
     "output_type": "display_data"
    }
   ],
   "source": [
    "plt.figure(figsize=(6,5))\n",
    "sns.scatterplot(x = 'Age', y = 'Height' , data=data)"
   ]
  },
  {
   "cell_type": "code",
   "execution_count": 96,
   "id": "5d33c5e4-269a-4ab3-829b-17c6e992c9c3",
   "metadata": {},
   "outputs": [
    {
     "data": {
      "text/plain": [
       "<Axes: xlabel='Age', ylabel='Height'>"
      ]
     },
     "execution_count": 96,
     "metadata": {},
     "output_type": "execute_result"
    },
    {
     "data": {
      "image/png": "[encoded data removed]",
      "text/plain": [
       "<Figure size 500x400 with 1 Axes>"
      ]
     },
     "metadata": {},
     "output_type": "display_data"
    }
   ],
   "source": [
    "plt.figure(figsize=(5,4))\n",
    "sns.scatterplot(x = 'Age', y = 'Height', hue='Sex' , data=data)"
   ]
  },
  {
   "cell_type": "code",
   "execution_count": 98,
   "id": "c240e220-e4f5-46a8-9c9f-103e1ba45db4",
   "metadata": {},
   "outputs": [],
   "source": [
    "#Numerical-Categorical Relationship"
   ]
  },
  {
   "cell_type": "code",
   "execution_count": 99,
   "id": "218bf443-56f5-4359-a9b6-616d4e119524",
   "metadata": {},
   "outputs": [
    {
     "data": {
      "text/html": [
       "<div>\n",
       "<style scoped>\n",
       "    .dataframe tbody tr th:only-of-type {\n",
       "        vertical-align: middle;\n",
       "    }\n",
       "\n",
       "    .dataframe tbody tr th {\n",
       "        vertical-align: top;\n",
       "    }\n",
       "\n",
       "    .dataframe thead th {\n",
       "        text-align: right;\n",
       "    }\n",
       "</style>\n",
       "<table border=\"1\" class=\"dataframe\">\n",
       "  <thead>\n",
       "    <tr style=\"text-align: right;\">\n",
       "      <th></th>\n",
       "      <th>ID</th>\n",
       "      <th>Name</th>\n",
       "      <th>Sex</th>\n",
       "      <th>Age</th>\n",
       "      <th>Height</th>\n",
       "      <th>Weight</th>\n",
       "      <th>Team</th>\n",
       "      <th>NOC</th>\n",
       "      <th>Games</th>\n",
       "      <th>Year</th>\n",
       "      <th>Season</th>\n",
       "      <th>City</th>\n",
       "      <th>Sport</th>\n",
       "      <th>Event</th>\n",
       "      <th>Medal</th>\n",
       "    </tr>\n",
       "  </thead>\n",
       "  <tbody>\n",
       "    <tr>\n",
       "      <th>0</th>\n",
       "      <td>1</td>\n",
       "      <td>A Dijiang</td>\n",
       "      <td>M</td>\n",
       "      <td>24.0</td>\n",
       "      <td>180.0</td>\n",
       "      <td>80.0</td>\n",
       "      <td>China</td>\n",
       "      <td>CHN</td>\n",
       "      <td>1992 Summer</td>\n",
       "      <td>1992</td>\n",
       "      <td>Summer</td>\n",
       "      <td>Barcelona</td>\n",
       "      <td>Basketball</td>\n",
       "      <td>Basketball Men's Basketball</td>\n",
       "      <td>NaN</td>\n",
       "    </tr>\n",
       "  </tbody>\n",
       "</table>\n",
       "</div>"
      ],
      "text/plain": [
       "   ID       Name Sex   Age  Height  Weight   Team  NOC        Games  Year  \\\n",
       "0   1  A Dijiang   M  24.0   180.0    80.0  China  CHN  1992 Summer  1992   \n",
       "\n",
       "   Season       City       Sport                        Event Medal  \n",
       "0  Summer  Barcelona  Basketball  Basketball Men's Basketball   NaN  "
      ]
     },
     "execution_count": 99,
     "metadata": {},
     "output_type": "execute_result"
    }
   ],
   "source": [
    "data.head(1)"
   ]
  },
  {
   "cell_type": "code",
   "execution_count": 102,
   "id": "70bf3eed-e347-4f65-8881-67dbe2781c83",
   "metadata": {},
   "outputs": [
    {
     "data": {
      "text/plain": [
       "<Axes: xlabel='Medal', ylabel='Age'>"
      ]
     },
     "execution_count": 102,
     "metadata": {},
     "output_type": "execute_result"
    },
    {
     "data": {
      "image/png": "[encoded data removed]",
      "text/plain": [
       "<Figure size 640x480 with 1 Axes>"
      ]
     },
     "metadata": {},
     "output_type": "display_data"
    }
   ],
   "source": [
    "sns.barplot(x=data['Medal'],y=data['Age'],data=data)"
   ]
  },
  {
   "cell_type": "code",
   "execution_count": 104,
   "id": "8733c01e-131b-434c-9e8f-617cb4c3e746",
   "metadata": {},
   "outputs": [
    {
     "data": {
      "text/plain": [
       "<Axes: xlabel='Medal', ylabel='Age'>"
      ]
     },
     "execution_count": 104,
     "metadata": {},
     "output_type": "execute_result"
    },
    {
     "data": {
      "image/png": "[encoded data removed]",
      "text/plain": [
       "<Figure size 640x480 with 1 Axes>"
      ]
     },
     "metadata": {},
     "output_type": "display_data"
    }
   ],
   "source": [
    "sns.boxplot(x='Medal', y='Age', hue='Sex', data=data)"
   ]
  },
  {
   "cell_type": "code",
   "execution_count": 108,
   "id": "52992973-0f01-4b7d-83ec-e40824d6f351",
   "metadata": {},
   "outputs": [],
   "source": [
    "con = pd.crosstab(data['Sex'],data['Medal'])"
   ]
  },
  {
   "cell_type": "code",
   "execution_count": 109,
   "id": "403fcec1-3032-4d77-96a4-52ea4e4228cf",
   "metadata": {},
   "outputs": [
    {
     "data": {
      "text/html": [
       "<div>\n",
       "<style scoped>\n",
       "    .dataframe tbody tr th:only-of-type {\n",
       "        vertical-align: middle;\n",
       "    }\n",
       "\n",
       "    .dataframe tbody tr th {\n",
       "        vertical-align: top;\n",
       "    }\n",
       "\n",
       "    .dataframe thead th {\n",
       "        text-align: right;\n",
       "    }\n",
       "</style>\n",
       "<table border=\"1\" class=\"dataframe\">\n",
       "  <thead>\n",
       "    <tr style=\"text-align: right;\">\n",
       "      <th>Medal</th>\n",
       "      <th>Bronze</th>\n",
       "      <th>Gold</th>\n",
       "      <th>Silver</th>\n",
       "    </tr>\n",
       "    <tr>\n",
       "      <th>Sex</th>\n",
       "      <th></th>\n",
       "      <th></th>\n",
       "      <th></th>\n",
       "    </tr>\n",
       "  </thead>\n",
       "  <tbody>\n",
       "    <tr>\n",
       "      <th>F</th>\n",
       "      <td>3771</td>\n",
       "      <td>3747</td>\n",
       "      <td>3735</td>\n",
       "    </tr>\n",
       "    <tr>\n",
       "      <th>M</th>\n",
       "      <td>9524</td>\n",
       "      <td>9622</td>\n",
       "      <td>9373</td>\n",
       "    </tr>\n",
       "  </tbody>\n",
       "</table>\n",
       "</div>"
      ],
      "text/plain": [
       "Medal  Bronze  Gold  Silver\n",
       "Sex                        \n",
       "F        3771  3747    3735\n",
       "M        9524  9622    9373"
      ]
     },
     "execution_count": 109,
     "metadata": {},
     "output_type": "execute_result"
    }
   ],
   "source": [
    "con"
   ]
  },
  {
   "cell_type": "code",
   "execution_count": 110,
   "id": "bc107b72-ca92-48ec-b776-ee5ec719ce8f",
   "metadata": {},
   "outputs": [
    {
     "data": {
      "text/plain": [
       "<Axes: xlabel='Medal', ylabel='Sex'>"
      ]
     },
     "execution_count": 110,
     "metadata": {},
     "output_type": "execute_result"
    },
    {
     "data": {
      "image/png": "[encoded data removed]",
      "text/plain": [
       "<Figure size 640x480 with 2 Axes>"
      ]
     },
     "metadata": {},
     "output_type": "display_data"
    }
   ],
   "source": [
    "sns.heatmap(con)"
   ]
  },
  {
   "cell_type": "code",
   "execution_count": 111,
   "id": "ee5d3a56-d2d4-48f2-abbd-37d12a907158",
   "metadata": {},
   "outputs": [
    {
     "data": {
      "text/html": [
       "<div>\n",
       "<style scoped>\n",
       "    .dataframe tbody tr th:only-of-type {\n",
       "        vertical-align: middle;\n",
       "    }\n",
       "\n",
       "    .dataframe tbody tr th {\n",
       "        vertical-align: top;\n",
       "    }\n",
       "\n",
       "    .dataframe thead th {\n",
       "        text-align: right;\n",
       "    }\n",
       "</style>\n",
       "<table border=\"1\" class=\"dataframe\">\n",
       "  <thead>\n",
       "    <tr style=\"text-align: right;\">\n",
       "      <th></th>\n",
       "      <th>ID</th>\n",
       "      <th>Name</th>\n",
       "      <th>Sex</th>\n",
       "      <th>Age</th>\n",
       "      <th>Height</th>\n",
       "      <th>Weight</th>\n",
       "      <th>Team</th>\n",
       "      <th>NOC</th>\n",
       "      <th>Games</th>\n",
       "      <th>Year</th>\n",
       "      <th>Season</th>\n",
       "      <th>City</th>\n",
       "      <th>Sport</th>\n",
       "      <th>Event</th>\n",
       "      <th>Medal</th>\n",
       "    </tr>\n",
       "  </thead>\n",
       "  <tbody>\n",
       "    <tr>\n",
       "      <th>0</th>\n",
       "      <td>1</td>\n",
       "      <td>A Dijiang</td>\n",
       "      <td>M</td>\n",
       "      <td>24.0</td>\n",
       "      <td>180.0</td>\n",
       "      <td>80.0</td>\n",
       "      <td>China</td>\n",
       "      <td>CHN</td>\n",
       "      <td>1992 Summer</td>\n",
       "      <td>1992</td>\n",
       "      <td>Summer</td>\n",
       "      <td>Barcelona</td>\n",
       "      <td>Basketball</td>\n",
       "      <td>Basketball Men's Basketball</td>\n",
       "      <td>NaN</td>\n",
       "    </tr>\n",
       "  </tbody>\n",
       "</table>\n",
       "</div>"
      ],
      "text/plain": [
       "   ID       Name Sex   Age  Height  Weight   Team  NOC        Games  Year  \\\n",
       "0   1  A Dijiang   M  24.0   180.0    80.0  China  CHN  1992 Summer  1992   \n",
       "\n",
       "   Season       City       Sport                        Event Medal  \n",
       "0  Summer  Barcelona  Basketball  Basketball Men's Basketball   NaN  "
      ]
     },
     "execution_count": 111,
     "metadata": {},
     "output_type": "execute_result"
    }
   ],
   "source": [
    "data.head(1)"
   ]
  },
  {
   "cell_type": "code",
   "execution_count": 132,
   "id": "2032764d-517d-4bbb-bcee-61474c2d72b9",
   "metadata": {},
   "outputs": [],
   "source": [
    "df_china = data[data['Team'] == 'China']"
   ]
  },
  {
   "cell_type": "code",
   "execution_count": 133,
   "id": "f2ce2c09-6ed7-4a24-9535-4a3bede7f832",
   "metadata": {},
   "outputs": [],
   "source": [
    "china_medal = df_china.groupby('Year')['Medal'].count()"
   ]
  },
  {
   "cell_type": "code",
   "execution_count": 137,
   "id": "3c8bf387-5413-4464-b5f0-f27365e03e66",
   "metadata": {},
   "outputs": [
    {
     "data": {
      "image/png": "[encoded data removed]",
      "text/plain": [
       "<Figure size 640x480 with 1 Axes>"
      ]
     },
     "metadata": {},
     "output_type": "display_data"
    }
   ],
   "source": [
    "sns.lineplot(data=china_medal)\n",
    "plt.ylabel('Medal Count')\n",
    "plt.show()"
   ]
  },
  {
   "cell_type": "code",
   "execution_count": 138,
   "id": "fdc14d72-6798-4746-a50c-a2085449e877",
   "metadata": {},
   "outputs": [
    {
     "data": {
      "text/plain": [
       "Index(['ID', 'Name', 'Sex', 'Age', 'Height', 'Weight', 'Team', 'NOC', 'Games',\n",
       "       'Year', 'Season', 'City', 'Sport', 'Event', 'Medal'],\n",
       "      dtype='object')"
      ]
     },
     "execution_count": 138,
     "metadata": {},
     "output_type": "execute_result"
    }
   ],
   "source": [
    "data.columns"
   ]
  },
  {
   "cell_type": "code",
   "execution_count": 144,
   "id": "74fba2db-223a-4373-894e-f89c86bab29c",
   "metadata": {},
   "outputs": [],
   "source": [
    "medal_counts = data['Name'].value_counts().reset_index().head(10)"
   ]
  },
  {
   "cell_type": "code",
   "execution_count": 145,
   "id": "3b737654-04b5-4a5e-8418-183523121907",
   "metadata": {},
   "outputs": [],
   "source": [
    "medal_counts.columns = [\"Athlete\", \"Medal Counts\"]"
   ]
  },
  {
   "cell_type": "code",
   "execution_count": 146,
   "id": "92031165-1786-429d-a9f7-71e1169f8152",
   "metadata": {},
   "outputs": [
    {
     "data": {
      "text/html": [
       "<div>\n",
       "<style scoped>\n",
       "    .dataframe tbody tr th:only-of-type {\n",
       "        vertical-align: middle;\n",
       "    }\n",
       "\n",
       "    .dataframe tbody tr th {\n",
       "        vertical-align: top;\n",
       "    }\n",
       "\n",
       "    .dataframe thead th {\n",
       "        text-align: right;\n",
       "    }\n",
       "</style>\n",
       "<table border=\"1\" class=\"dataframe\">\n",
       "  <thead>\n",
       "    <tr style=\"text-align: right;\">\n",
       "      <th></th>\n",
       "      <th>Athlete</th>\n",
       "      <th>Medal Counts</th>\n",
       "    </tr>\n",
       "  </thead>\n",
       "  <tbody>\n",
       "    <tr>\n",
       "      <th>0</th>\n",
       "      <td>Heikki Ilmari Savolainen</td>\n",
       "      <td>39</td>\n",
       "    </tr>\n",
       "    <tr>\n",
       "      <th>1</th>\n",
       "      <td>Joseph \"Josy\" Stoffel</td>\n",
       "      <td>38</td>\n",
       "    </tr>\n",
       "    <tr>\n",
       "      <th>2</th>\n",
       "      <td>Ioannis Theofilakis</td>\n",
       "      <td>36</td>\n",
       "    </tr>\n",
       "    <tr>\n",
       "      <th>3</th>\n",
       "      <td>Takashi Ono</td>\n",
       "      <td>33</td>\n",
       "    </tr>\n",
       "    <tr>\n",
       "      <th>4</th>\n",
       "      <td>Andreas Wecker</td>\n",
       "      <td>32</td>\n",
       "    </tr>\n",
       "    <tr>\n",
       "      <th>5</th>\n",
       "      <td>Alexandros Theofilakis</td>\n",
       "      <td>32</td>\n",
       "    </tr>\n",
       "    <tr>\n",
       "      <th>6</th>\n",
       "      <td>Michel Mathiot</td>\n",
       "      <td>31</td>\n",
       "    </tr>\n",
       "    <tr>\n",
       "      <th>7</th>\n",
       "      <td>Johann \"Hans\" Sauter</td>\n",
       "      <td>31</td>\n",
       "    </tr>\n",
       "    <tr>\n",
       "      <th>8</th>\n",
       "      <td>Alfred August \"Al\" Jochim</td>\n",
       "      <td>31</td>\n",
       "    </tr>\n",
       "    <tr>\n",
       "      <th>9</th>\n",
       "      <td>Karl Tore William Thoresson</td>\n",
       "      <td>30</td>\n",
       "    </tr>\n",
       "  </tbody>\n",
       "</table>\n",
       "</div>"
      ],
      "text/plain": [
       "                       Athlete  Medal Counts\n",
       "0     Heikki Ilmari Savolainen            39\n",
       "1        Joseph \"Josy\" Stoffel            38\n",
       "2          Ioannis Theofilakis            36\n",
       "3                  Takashi Ono            33\n",
       "4               Andreas Wecker            32\n",
       "5       Alexandros Theofilakis            32\n",
       "6               Michel Mathiot            31\n",
       "7         Johann \"Hans\" Sauter            31\n",
       "8    Alfred August \"Al\" Jochim            31\n",
       "9  Karl Tore William Thoresson            30"
      ]
     },
     "execution_count": 146,
     "metadata": {},
     "output_type": "execute_result"
    }
   ],
   "source": [
    "medal_counts"
   ]
  },
  {
   "cell_type": "code",
   "execution_count": 155,
   "id": "8fab008f-c664-4e46-9d5b-438b35e52462",
   "metadata": {},
   "outputs": [
    {
     "data": {
      "text/plain": [
       "<Axes: xlabel='Medal Counts', ylabel='Athlete'>"
      ]
     },
     "execution_count": 155,
     "metadata": {},
     "output_type": "execute_result"
    },
    {
     "data": {
      "image/png": "[encoded data removed]",
      "text/plain": [
       "<Figure size 640x480 with 1 Axes>"
      ]
     },
     "metadata": {},
     "output_type": "display_data"
    }
   ],
   "source": [
    "\n",
    "sns.barplot(x='Medal Counts', y='Athlete',data=medal_counts)"
   ]
  },
  {
   "cell_type": "code",
   "execution_count": 156,
   "id": "9fc1d003-f86e-4a69-9163-1cc761262799",
   "metadata": {},
   "outputs": [
    {
     "data": {
      "text/html": [
       "<div>\n",
       "<style scoped>\n",
       "    .dataframe tbody tr th:only-of-type {\n",
       "        vertical-align: middle;\n",
       "    }\n",
       "\n",
       "    .dataframe tbody tr th {\n",
       "        vertical-align: top;\n",
       "    }\n",
       "\n",
       "    .dataframe thead th {\n",
       "        text-align: right;\n",
       "    }\n",
       "</style>\n",
       "<table border=\"1\" class=\"dataframe\">\n",
       "  <thead>\n",
       "    <tr style=\"text-align: right;\">\n",
       "      <th></th>\n",
       "      <th>ID</th>\n",
       "      <th>Name</th>\n",
       "      <th>Sex</th>\n",
       "      <th>Age</th>\n",
       "      <th>Height</th>\n",
       "      <th>Weight</th>\n",
       "      <th>Team</th>\n",
       "      <th>NOC</th>\n",
       "      <th>Games</th>\n",
       "      <th>Year</th>\n",
       "      <th>Season</th>\n",
       "      <th>City</th>\n",
       "      <th>Sport</th>\n",
       "      <th>Event</th>\n",
       "      <th>Medal</th>\n",
       "    </tr>\n",
       "  </thead>\n",
       "  <tbody>\n",
       "    <tr>\n",
       "      <th>0</th>\n",
       "      <td>1</td>\n",
       "      <td>A Dijiang</td>\n",
       "      <td>M</td>\n",
       "      <td>24.0</td>\n",
       "      <td>180.0</td>\n",
       "      <td>80.0</td>\n",
       "      <td>China</td>\n",
       "      <td>CHN</td>\n",
       "      <td>1992 Summer</td>\n",
       "      <td>1992</td>\n",
       "      <td>Summer</td>\n",
       "      <td>Barcelona</td>\n",
       "      <td>Basketball</td>\n",
       "      <td>Basketball Men's Basketball</td>\n",
       "      <td>NaN</td>\n",
       "    </tr>\n",
       "  </tbody>\n",
       "</table>\n",
       "</div>"
      ],
      "text/plain": [
       "   ID       Name Sex   Age  Height  Weight   Team  NOC        Games  Year  \\\n",
       "0   1  A Dijiang   M  24.0   180.0    80.0  China  CHN  1992 Summer  1992   \n",
       "\n",
       "   Season       City       Sport                        Event Medal  \n",
       "0  Summer  Barcelona  Basketball  Basketball Men's Basketball   NaN  "
      ]
     },
     "execution_count": 156,
     "metadata": {},
     "output_type": "execute_result"
    }
   ],
   "source": [
    "data.head(1)"
   ]
  },
  {
   "cell_type": "code",
   "execution_count": 158,
   "id": "686d45d0-1df2-4334-9a8e-540f76a91281",
   "metadata": {},
   "outputs": [
    {
     "data": {
      "text/html": [
       "<div>\n",
       "<style scoped>\n",
       "    .dataframe tbody tr th:only-of-type {\n",
       "        vertical-align: middle;\n",
       "    }\n",
       "\n",
       "    .dataframe tbody tr th {\n",
       "        vertical-align: top;\n",
       "    }\n",
       "\n",
       "    .dataframe thead th {\n",
       "        text-align: right;\n",
       "    }\n",
       "</style>\n",
       "<table border=\"1\" class=\"dataframe\">\n",
       "  <thead>\n",
       "    <tr style=\"text-align: right;\">\n",
       "      <th>Medal</th>\n",
       "      <th>Bronze</th>\n",
       "      <th>Gold</th>\n",
       "      <th>Silver</th>\n",
       "    </tr>\n",
       "    <tr>\n",
       "      <th>City</th>\n",
       "      <th></th>\n",
       "      <th></th>\n",
       "      <th></th>\n",
       "    </tr>\n",
       "  </thead>\n",
       "  <tbody>\n",
       "    <tr>\n",
       "      <th>Albertville</th>\n",
       "      <td>106</td>\n",
       "      <td>104</td>\n",
       "      <td>108</td>\n",
       "    </tr>\n",
       "    <tr>\n",
       "      <th>Amsterdam</th>\n",
       "      <td>250</td>\n",
       "      <td>245</td>\n",
       "      <td>239</td>\n",
       "    </tr>\n",
       "    <tr>\n",
       "      <th>Antwerpen</th>\n",
       "      <td>367</td>\n",
       "      <td>493</td>\n",
       "      <td>448</td>\n",
       "    </tr>\n",
       "    <tr>\n",
       "      <th>Athina</th>\n",
       "      <td>860</td>\n",
       "      <td>883</td>\n",
       "      <td>859</td>\n",
       "    </tr>\n",
       "    <tr>\n",
       "      <th>Atlanta</th>\n",
       "      <td>629</td>\n",
       "      <td>608</td>\n",
       "      <td>605</td>\n",
       "    </tr>\n",
       "    <tr>\n",
       "      <th>Barcelona</th>\n",
       "      <td>604</td>\n",
       "      <td>559</td>\n",
       "      <td>549</td>\n",
       "    </tr>\n",
       "    <tr>\n",
       "      <th>Beijing</th>\n",
       "      <td>710</td>\n",
       "      <td>671</td>\n",
       "      <td>667</td>\n",
       "    </tr>\n",
       "    <tr>\n",
       "      <th>Berlin</th>\n",
       "      <td>295</td>\n",
       "      <td>312</td>\n",
       "      <td>310</td>\n",
       "    </tr>\n",
       "    <tr>\n",
       "      <th>Calgary</th>\n",
       "      <td>88</td>\n",
       "      <td>87</td>\n",
       "      <td>88</td>\n",
       "    </tr>\n",
       "    <tr>\n",
       "      <th>Chamonix</th>\n",
       "      <td>37</td>\n",
       "      <td>55</td>\n",
       "      <td>38</td>\n",
       "    </tr>\n",
       "    <tr>\n",
       "      <th>Cortina d'Ampezzo</th>\n",
       "      <td>50</td>\n",
       "      <td>51</td>\n",
       "      <td>49</td>\n",
       "    </tr>\n",
       "    <tr>\n",
       "      <th>Garmisch-Partenkirchen</th>\n",
       "      <td>35</td>\n",
       "      <td>36</td>\n",
       "      <td>37</td>\n",
       "    </tr>\n",
       "    <tr>\n",
       "      <th>Grenoble</th>\n",
       "      <td>63</td>\n",
       "      <td>66</td>\n",
       "      <td>70</td>\n",
       "    </tr>\n",
       "    <tr>\n",
       "      <th>Helsinki</th>\n",
       "      <td>300</td>\n",
       "      <td>306</td>\n",
       "      <td>291</td>\n",
       "    </tr>\n",
       "    <tr>\n",
       "      <th>Innsbruck</th>\n",
       "      <td>128</td>\n",
       "      <td>131</td>\n",
       "      <td>138</td>\n",
       "    </tr>\n",
       "    <tr>\n",
       "      <th>Lake Placid</th>\n",
       "      <td>101</td>\n",
       "      <td>104</td>\n",
       "      <td>105</td>\n",
       "    </tr>\n",
       "    <tr>\n",
       "      <th>Lillehammer</th>\n",
       "      <td>112</td>\n",
       "      <td>110</td>\n",
       "      <td>109</td>\n",
       "    </tr>\n",
       "    <tr>\n",
       "      <th>London</th>\n",
       "      <td>1214</td>\n",
       "      <td>1215</td>\n",
       "      <td>1195</td>\n",
       "    </tr>\n",
       "    <tr>\n",
       "      <th>Los Angeles</th>\n",
       "      <td>706</td>\n",
       "      <td>726</td>\n",
       "      <td>691</td>\n",
       "    </tr>\n",
       "    <tr>\n",
       "      <th>Melbourne</th>\n",
       "      <td>286</td>\n",
       "      <td>290</td>\n",
       "      <td>281</td>\n",
       "    </tr>\n",
       "    <tr>\n",
       "      <th>Mexico City</th>\n",
       "      <td>358</td>\n",
       "      <td>359</td>\n",
       "      <td>340</td>\n",
       "    </tr>\n",
       "    <tr>\n",
       "      <th>Montreal</th>\n",
       "      <td>448</td>\n",
       "      <td>438</td>\n",
       "      <td>434</td>\n",
       "    </tr>\n",
       "    <tr>\n",
       "      <th>Moskva</th>\n",
       "      <td>469</td>\n",
       "      <td>457</td>\n",
       "      <td>458</td>\n",
       "    </tr>\n",
       "    <tr>\n",
       "      <th>Munich</th>\n",
       "      <td>419</td>\n",
       "      <td>404</td>\n",
       "      <td>392</td>\n",
       "    </tr>\n",
       "    <tr>\n",
       "      <th>Nagano</th>\n",
       "      <td>150</td>\n",
       "      <td>145</td>\n",
       "      <td>145</td>\n",
       "    </tr>\n",
       "    <tr>\n",
       "      <th>Oslo</th>\n",
       "      <td>47</td>\n",
       "      <td>45</td>\n",
       "      <td>44</td>\n",
       "    </tr>\n",
       "    <tr>\n",
       "      <th>Paris</th>\n",
       "      <td>449</td>\n",
       "      <td>475</td>\n",
       "      <td>501</td>\n",
       "    </tr>\n",
       "    <tr>\n",
       "      <th>Rio de Janeiro</th>\n",
       "      <td>703</td>\n",
       "      <td>665</td>\n",
       "      <td>655</td>\n",
       "    </tr>\n",
       "    <tr>\n",
       "      <th>Roma</th>\n",
       "      <td>308</td>\n",
       "      <td>309</td>\n",
       "      <td>294</td>\n",
       "    </tr>\n",
       "    <tr>\n",
       "      <th>Salt Lake City</th>\n",
       "      <td>159</td>\n",
       "      <td>162</td>\n",
       "      <td>157</td>\n",
       "    </tr>\n",
       "    <tr>\n",
       "      <th>Sankt Moritz</th>\n",
       "      <td>77</td>\n",
       "      <td>71</td>\n",
       "      <td>76</td>\n",
       "    </tr>\n",
       "    <tr>\n",
       "      <th>Sapporo</th>\n",
       "      <td>66</td>\n",
       "      <td>70</td>\n",
       "      <td>63</td>\n",
       "    </tr>\n",
       "    <tr>\n",
       "      <th>Sarajevo</th>\n",
       "      <td>74</td>\n",
       "      <td>74</td>\n",
       "      <td>74</td>\n",
       "    </tr>\n",
       "    <tr>\n",
       "      <th>Seoul</th>\n",
       "      <td>549</td>\n",
       "      <td>520</td>\n",
       "      <td>513</td>\n",
       "    </tr>\n",
       "    <tr>\n",
       "      <th>Sochi</th>\n",
       "      <td>198</td>\n",
       "      <td>202</td>\n",
       "      <td>197</td>\n",
       "    </tr>\n",
       "    <tr>\n",
       "      <th>Squaw Valley</th>\n",
       "      <td>49</td>\n",
       "      <td>50</td>\n",
       "      <td>48</td>\n",
       "    </tr>\n",
       "    <tr>\n",
       "      <th>St. Louis</th>\n",
       "      <td>150</td>\n",
       "      <td>173</td>\n",
       "      <td>163</td>\n",
       "    </tr>\n",
       "    <tr>\n",
       "      <th>Stockholm</th>\n",
       "      <td>312</td>\n",
       "      <td>338</td>\n",
       "      <td>327</td>\n",
       "    </tr>\n",
       "    <tr>\n",
       "      <th>Sydney</th>\n",
       "      <td>680</td>\n",
       "      <td>663</td>\n",
       "      <td>661</td>\n",
       "    </tr>\n",
       "    <tr>\n",
       "      <th>Tokyo</th>\n",
       "      <td>343</td>\n",
       "      <td>347</td>\n",
       "      <td>339</td>\n",
       "    </tr>\n",
       "    <tr>\n",
       "      <th>Torino</th>\n",
       "      <td>175</td>\n",
       "      <td>176</td>\n",
       "      <td>175</td>\n",
       "    </tr>\n",
       "    <tr>\n",
       "      <th>Vancouver</th>\n",
       "      <td>171</td>\n",
       "      <td>174</td>\n",
       "      <td>175</td>\n",
       "    </tr>\n",
       "  </tbody>\n",
       "</table>\n",
       "</div>"
      ],
      "text/plain": [
       "Medal                   Bronze  Gold  Silver\n",
       "City                                        \n",
       "Albertville                106   104     108\n",
       "Amsterdam                  250   245     239\n",
       "Antwerpen                  367   493     448\n",
       "Athina                     860   883     859\n",
       "Atlanta                    629   608     605\n",
       "Barcelona                  604   559     549\n",
       "Beijing                    710   671     667\n",
       "Berlin                     295   312     310\n",
       "Calgary                     88    87      88\n",
       "Chamonix                    37    55      38\n",
       "Cortina d'Ampezzo           50    51      49\n",
       "Garmisch-Partenkirchen      35    36      37\n",
       "Grenoble                    63    66      70\n",
       "Helsinki                   300   306     291\n",
       "Innsbruck                  128   131     138\n",
       "Lake Placid                101   104     105\n",
       "Lillehammer                112   110     109\n",
       "London                    1214  1215    1195\n",
       "Los Angeles                706   726     691\n",
       "Melbourne                  286   290     281\n",
       "Mexico City                358   359     340\n",
       "Montreal                   448   438     434\n",
       "Moskva                     469   457     458\n",
       "Munich                     419   404     392\n",
       "Nagano                     150   145     145\n",
       "Oslo                        47    45      44\n",
       "Paris                      449   475     501\n",
       "Rio de Janeiro             703   665     655\n",
       "Roma                       308   309     294\n",
       "Salt Lake City             159   162     157\n",
       "Sankt Moritz                77    71      76\n",
       "Sapporo                     66    70      63\n",
       "Sarajevo                    74    74      74\n",
       "Seoul                      549   520     513\n",
       "Sochi                      198   202     197\n",
       "Squaw Valley                49    50      48\n",
       "St. Louis                  150   173     163\n",
       "Stockholm                  312   338     327\n",
       "Sydney                     680   663     661\n",
       "Tokyo                      343   347     339\n",
       "Torino                     175   176     175\n",
       "Vancouver                  171   174     175"
      ]
     },
     "execution_count": 158,
     "metadata": {},
     "output_type": "execute_result"
    }
   ],
   "source": [
    "data.groupby(['City','Medal']).size().unstack()"
   ]
  },
  {
   "cell_type": "code",
   "execution_count": 161,
   "id": "7e3559e2-7e76-482a-89f4-aa86b5dea0c8",
   "metadata": {},
   "outputs": [
    {
     "data": {
      "text/html": [
       "<div>\n",
       "<style scoped>\n",
       "    .dataframe tbody tr th:only-of-type {\n",
       "        vertical-align: middle;\n",
       "    }\n",
       "\n",
       "    .dataframe tbody tr th {\n",
       "        vertical-align: top;\n",
       "    }\n",
       "\n",
       "    .dataframe thead th {\n",
       "        text-align: right;\n",
       "    }\n",
       "</style>\n",
       "<table border=\"1\" class=\"dataframe\">\n",
       "  <thead>\n",
       "    <tr style=\"text-align: right;\">\n",
       "      <th>Medal</th>\n",
       "      <th>Bronze</th>\n",
       "      <th>Gold</th>\n",
       "      <th>Silver</th>\n",
       "      <th>Total</th>\n",
       "    </tr>\n",
       "    <tr>\n",
       "      <th>City</th>\n",
       "      <th></th>\n",
       "      <th></th>\n",
       "      <th></th>\n",
       "      <th></th>\n",
       "    </tr>\n",
       "  </thead>\n",
       "  <tbody>\n",
       "    <tr>\n",
       "      <th>London</th>\n",
       "      <td>1214</td>\n",
       "      <td>1215</td>\n",
       "      <td>1195</td>\n",
       "      <td>3624</td>\n",
       "    </tr>\n",
       "    <tr>\n",
       "      <th>Athina</th>\n",
       "      <td>860</td>\n",
       "      <td>883</td>\n",
       "      <td>859</td>\n",
       "      <td>2602</td>\n",
       "    </tr>\n",
       "    <tr>\n",
       "      <th>Los Angeles</th>\n",
       "      <td>706</td>\n",
       "      <td>726</td>\n",
       "      <td>691</td>\n",
       "      <td>2123</td>\n",
       "    </tr>\n",
       "    <tr>\n",
       "      <th>Beijing</th>\n",
       "      <td>710</td>\n",
       "      <td>671</td>\n",
       "      <td>667</td>\n",
       "      <td>2048</td>\n",
       "    </tr>\n",
       "    <tr>\n",
       "      <th>Rio de Janeiro</th>\n",
       "      <td>703</td>\n",
       "      <td>665</td>\n",
       "      <td>655</td>\n",
       "      <td>2023</td>\n",
       "    </tr>\n",
       "    <tr>\n",
       "      <th>Sydney</th>\n",
       "      <td>680</td>\n",
       "      <td>663</td>\n",
       "      <td>661</td>\n",
       "      <td>2004</td>\n",
       "    </tr>\n",
       "    <tr>\n",
       "      <th>Atlanta</th>\n",
       "      <td>629</td>\n",
       "      <td>608</td>\n",
       "      <td>605</td>\n",
       "      <td>1842</td>\n",
       "    </tr>\n",
       "    <tr>\n",
       "      <th>Barcelona</th>\n",
       "      <td>604</td>\n",
       "      <td>559</td>\n",
       "      <td>549</td>\n",
       "      <td>1712</td>\n",
       "    </tr>\n",
       "    <tr>\n",
       "      <th>Seoul</th>\n",
       "      <td>549</td>\n",
       "      <td>520</td>\n",
       "      <td>513</td>\n",
       "      <td>1582</td>\n",
       "    </tr>\n",
       "    <tr>\n",
       "      <th>Paris</th>\n",
       "      <td>449</td>\n",
       "      <td>475</td>\n",
       "      <td>501</td>\n",
       "      <td>1425</td>\n",
       "    </tr>\n",
       "    <tr>\n",
       "      <th>Moskva</th>\n",
       "      <td>469</td>\n",
       "      <td>457</td>\n",
       "      <td>458</td>\n",
       "      <td>1384</td>\n",
       "    </tr>\n",
       "    <tr>\n",
       "      <th>Montreal</th>\n",
       "      <td>448</td>\n",
       "      <td>438</td>\n",
       "      <td>434</td>\n",
       "      <td>1320</td>\n",
       "    </tr>\n",
       "    <tr>\n",
       "      <th>Antwerpen</th>\n",
       "      <td>367</td>\n",
       "      <td>493</td>\n",
       "      <td>448</td>\n",
       "      <td>1308</td>\n",
       "    </tr>\n",
       "    <tr>\n",
       "      <th>Munich</th>\n",
       "      <td>419</td>\n",
       "      <td>404</td>\n",
       "      <td>392</td>\n",
       "      <td>1215</td>\n",
       "    </tr>\n",
       "    <tr>\n",
       "      <th>Mexico City</th>\n",
       "      <td>358</td>\n",
       "      <td>359</td>\n",
       "      <td>340</td>\n",
       "      <td>1057</td>\n",
       "    </tr>\n",
       "    <tr>\n",
       "      <th>Tokyo</th>\n",
       "      <td>343</td>\n",
       "      <td>347</td>\n",
       "      <td>339</td>\n",
       "      <td>1029</td>\n",
       "    </tr>\n",
       "    <tr>\n",
       "      <th>Stockholm</th>\n",
       "      <td>312</td>\n",
       "      <td>338</td>\n",
       "      <td>327</td>\n",
       "      <td>977</td>\n",
       "    </tr>\n",
       "    <tr>\n",
       "      <th>Berlin</th>\n",
       "      <td>295</td>\n",
       "      <td>312</td>\n",
       "      <td>310</td>\n",
       "      <td>917</td>\n",
       "    </tr>\n",
       "    <tr>\n",
       "      <th>Roma</th>\n",
       "      <td>308</td>\n",
       "      <td>309</td>\n",
       "      <td>294</td>\n",
       "      <td>911</td>\n",
       "    </tr>\n",
       "    <tr>\n",
       "      <th>Helsinki</th>\n",
       "      <td>300</td>\n",
       "      <td>306</td>\n",
       "      <td>291</td>\n",
       "      <td>897</td>\n",
       "    </tr>\n",
       "    <tr>\n",
       "      <th>Melbourne</th>\n",
       "      <td>286</td>\n",
       "      <td>290</td>\n",
       "      <td>281</td>\n",
       "      <td>857</td>\n",
       "    </tr>\n",
       "    <tr>\n",
       "      <th>Amsterdam</th>\n",
       "      <td>250</td>\n",
       "      <td>245</td>\n",
       "      <td>239</td>\n",
       "      <td>734</td>\n",
       "    </tr>\n",
       "    <tr>\n",
       "      <th>Sochi</th>\n",
       "      <td>198</td>\n",
       "      <td>202</td>\n",
       "      <td>197</td>\n",
       "      <td>597</td>\n",
       "    </tr>\n",
       "    <tr>\n",
       "      <th>Torino</th>\n",
       "      <td>175</td>\n",
       "      <td>176</td>\n",
       "      <td>175</td>\n",
       "      <td>526</td>\n",
       "    </tr>\n",
       "    <tr>\n",
       "      <th>Vancouver</th>\n",
       "      <td>171</td>\n",
       "      <td>174</td>\n",
       "      <td>175</td>\n",
       "      <td>520</td>\n",
       "    </tr>\n",
       "    <tr>\n",
       "      <th>St. Louis</th>\n",
       "      <td>150</td>\n",
       "      <td>173</td>\n",
       "      <td>163</td>\n",
       "      <td>486</td>\n",
       "    </tr>\n",
       "    <tr>\n",
       "      <th>Salt Lake City</th>\n",
       "      <td>159</td>\n",
       "      <td>162</td>\n",
       "      <td>157</td>\n",
       "      <td>478</td>\n",
       "    </tr>\n",
       "    <tr>\n",
       "      <th>Nagano</th>\n",
       "      <td>150</td>\n",
       "      <td>145</td>\n",
       "      <td>145</td>\n",
       "      <td>440</td>\n",
       "    </tr>\n",
       "    <tr>\n",
       "      <th>Innsbruck</th>\n",
       "      <td>128</td>\n",
       "      <td>131</td>\n",
       "      <td>138</td>\n",
       "      <td>397</td>\n",
       "    </tr>\n",
       "    <tr>\n",
       "      <th>Lillehammer</th>\n",
       "      <td>112</td>\n",
       "      <td>110</td>\n",
       "      <td>109</td>\n",
       "      <td>331</td>\n",
       "    </tr>\n",
       "    <tr>\n",
       "      <th>Albertville</th>\n",
       "      <td>106</td>\n",
       "      <td>104</td>\n",
       "      <td>108</td>\n",
       "      <td>318</td>\n",
       "    </tr>\n",
       "    <tr>\n",
       "      <th>Lake Placid</th>\n",
       "      <td>101</td>\n",
       "      <td>104</td>\n",
       "      <td>105</td>\n",
       "      <td>310</td>\n",
       "    </tr>\n",
       "    <tr>\n",
       "      <th>Calgary</th>\n",
       "      <td>88</td>\n",
       "      <td>87</td>\n",
       "      <td>88</td>\n",
       "      <td>263</td>\n",
       "    </tr>\n",
       "    <tr>\n",
       "      <th>Sankt Moritz</th>\n",
       "      <td>77</td>\n",
       "      <td>71</td>\n",
       "      <td>76</td>\n",
       "      <td>224</td>\n",
       "    </tr>\n",
       "    <tr>\n",
       "      <th>Sarajevo</th>\n",
       "      <td>74</td>\n",
       "      <td>74</td>\n",
       "      <td>74</td>\n",
       "      <td>222</td>\n",
       "    </tr>\n",
       "    <tr>\n",
       "      <th>Sapporo</th>\n",
       "      <td>66</td>\n",
       "      <td>70</td>\n",
       "      <td>63</td>\n",
       "      <td>199</td>\n",
       "    </tr>\n",
       "    <tr>\n",
       "      <th>Grenoble</th>\n",
       "      <td>63</td>\n",
       "      <td>66</td>\n",
       "      <td>70</td>\n",
       "      <td>199</td>\n",
       "    </tr>\n",
       "    <tr>\n",
       "      <th>Cortina d'Ampezzo</th>\n",
       "      <td>50</td>\n",
       "      <td>51</td>\n",
       "      <td>49</td>\n",
       "      <td>150</td>\n",
       "    </tr>\n",
       "    <tr>\n",
       "      <th>Squaw Valley</th>\n",
       "      <td>49</td>\n",
       "      <td>50</td>\n",
       "      <td>48</td>\n",
       "      <td>147</td>\n",
       "    </tr>\n",
       "    <tr>\n",
       "      <th>Oslo</th>\n",
       "      <td>47</td>\n",
       "      <td>45</td>\n",
       "      <td>44</td>\n",
       "      <td>136</td>\n",
       "    </tr>\n",
       "    <tr>\n",
       "      <th>Chamonix</th>\n",
       "      <td>37</td>\n",
       "      <td>55</td>\n",
       "      <td>38</td>\n",
       "      <td>130</td>\n",
       "    </tr>\n",
       "    <tr>\n",
       "      <th>Garmisch-Partenkirchen</th>\n",
       "      <td>35</td>\n",
       "      <td>36</td>\n",
       "      <td>37</td>\n",
       "      <td>108</td>\n",
       "    </tr>\n",
       "  </tbody>\n",
       "</table>\n",
       "</div>"
      ],
      "text/plain": [
       "Medal                   Bronze  Gold  Silver  Total\n",
       "City                                               \n",
       "London                    1214  1215    1195   3624\n",
       "Athina                     860   883     859   2602\n",
       "Los Angeles                706   726     691   2123\n",
       "Beijing                    710   671     667   2048\n",
       "Rio de Janeiro             703   665     655   2023\n",
       "Sydney                     680   663     661   2004\n",
       "Atlanta                    629   608     605   1842\n",
       "Barcelona                  604   559     549   1712\n",
       "Seoul                      549   520     513   1582\n",
       "Paris                      449   475     501   1425\n",
       "Moskva                     469   457     458   1384\n",
       "Montreal                   448   438     434   1320\n",
       "Antwerpen                  367   493     448   1308\n",
       "Munich                     419   404     392   1215\n",
       "Mexico City                358   359     340   1057\n",
       "Tokyo                      343   347     339   1029\n",
       "Stockholm                  312   338     327    977\n",
       "Berlin                     295   312     310    917\n",
       "Roma                       308   309     294    911\n",
       "Helsinki                   300   306     291    897\n",
       "Melbourne                  286   290     281    857\n",
       "Amsterdam                  250   245     239    734\n",
       "Sochi                      198   202     197    597\n",
       "Torino                     175   176     175    526\n",
       "Vancouver                  171   174     175    520\n",
       "St. Louis                  150   173     163    486\n",
       "Salt Lake City             159   162     157    478\n",
       "Nagano                     150   145     145    440\n",
       "Innsbruck                  128   131     138    397\n",
       "Lillehammer                112   110     109    331\n",
       "Albertville                106   104     108    318\n",
       "Lake Placid                101   104     105    310\n",
       "Calgary                     88    87      88    263\n",
       "Sankt Moritz                77    71      76    224\n",
       "Sarajevo                    74    74      74    222\n",
       "Sapporo                     66    70      63    199\n",
       "Grenoble                    63    66      70    199\n",
       "Cortina d'Ampezzo           50    51      49    150\n",
       "Squaw Valley                49    50      48    147\n",
       "Oslo                        47    45      44    136\n",
       "Chamonix                    37    55      38    130\n",
       "Garmisch-Partenkirchen      35    36      37    108"
      ]
     },
     "execution_count": 161,
     "metadata": {},
     "output_type": "execute_result"
    }
   ],
   "source": [
    "medal_count = data.groupby(['City','Medal']).size().unstack()\n",
    "medal_count['Total'] = medal_count[['Bronze','Gold','Silver']].sum(axis=1)\n",
    "medal_count.sort_values(by='Total',ascending=False)"
   ]
  },
  {
   "cell_type": "code",
   "execution_count": null,
   "id": "125f1700-c633-420c-a0fb-ce9055bcc3ba",
   "metadata": {},
   "outputs": [],
   "source": []
  }
 ],
 "metadata": {
  "kernelspec": {
   "display_name": "Python 3 (ipykernel)",
   "language": "python",
   "name": "python3"
  },
  "language_info": {
   "codemirror_mode": {
    "name": "ipython",
    "version": 3
   },
   "file_extension": ".py",
   "mimetype": "text/x-python",
   "name": "python",
   "nbconvert_exporter": "python",
   "pygments_lexer": "ipython3",
   "version": "3.13.5"
  }
 },
 "nbformat": 4,
 "nbformat_minor": 5
}
